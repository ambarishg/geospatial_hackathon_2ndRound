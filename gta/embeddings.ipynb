{
 "cells": [
  {
   "cell_type": "code",
   "execution_count": 1,
   "metadata": {},
   "outputs": [],
   "source": [
    "import streamlit as st\n",
    "import pandas as pd\n",
    "import pickle\n",
    "from sklearn.metrics.pairwise import cosine_similarity\n",
    "import re\n",
    "import string\n",
    "import openai"
   ]
  },
  {
   "cell_type": "code",
   "execution_count": 2,
   "metadata": {},
   "outputs": [],
   "source": [
    "key = ''\n",
    "location = ''\n",
    "endpoint = ''\n",
    "\n",
    "openai.api_type = \"azure\"\n",
    "openai.api_key = key\n",
    "openai.api_base = endpoint\n",
    "openai.api_version = \"2022-12-01\"\n",
    "deployment_id=''\n",
    "\n",
    "filename = \"data/ne.txt\"\n",
    "filename_embeddings = \"data/ne_embeddings.pkl\"\n",
    "\n",
    "openai.api_key = key\n",
    "\n",
    "def create_prompt(context,query):\n",
    "    header = \"Answer the question as truthfully as possible using the provided context, and if the answer is not contained within the text and requires some latest information to be updated, print 'Sorry Not Sufficient context to answer query' \\n\"\n",
    "    return header + context + \"\\n\\n\" + query + \"\\n\"\n",
    "\n",
    "def generate_answer(prompt):\n",
    "    response = openai.Completion.create(\n",
    "    engine=deployment_id,\n",
    "    prompt=prompt,\n",
    "    temperature=0,\n",
    "    max_tokens=256,\n",
    "    top_p=1,\n",
    "    frequency_penalty=0,\n",
    "    presence_penalty=0,\n",
    "    stop = [' END']\n",
    "    )\n",
    "    return (response.choices[0].text).strip()\n",
    "\n",
    "def clean_text(text):\n",
    "    '''Make text lowercase,remove punctuation\n",
    "    .'''\n",
    "    text = str(text).lower()\n",
    "    text = re.sub('[%s]' % re.escape(string.punctuation), '', text)\n",
    "    text = re.sub('\\n', '', text)\n",
    "    return text\n"
   ]
  },
  {
   "cell_type": "code",
   "execution_count": 3,
   "metadata": {},
   "outputs": [],
   "source": [
    "\n",
    "file1 = open(filename, 'r',encoding=\"utf8\")\n",
    "Lines = file1.readlines()\n",
    "file1.close()"
   ]
  },
  {
   "cell_type": "code",
   "execution_count": 4,
   "metadata": {},
   "outputs": [
    {
     "name": "stderr",
     "output_type": "stream",
     "text": [
      "2023-03-25 13:28:29.397 INFO    sentence_transformers.SentenceTransformer: Load pretrained SentenceTransformer: all-MiniLM-L6-v2\n",
      "2023-03-25 13:28:30.931 INFO    sentence_transformers.SentenceTransformer: Use pytorch device: cpu\n"
     ]
    }
   ],
   "source": [
    "from sentence_transformers import SentenceTransformer\n",
    "model = SentenceTransformer('all-MiniLM-L6-v2')"
   ]
  },
  {
   "cell_type": "code",
   "execution_count": 5,
   "metadata": {},
   "outputs": [
    {
     "data": {
      "application/vnd.jupyter.widget-view+json": {
       "model_id": "39022b2fd1aa447aa9d1d82cac5e3679",
       "version_major": 2,
       "version_minor": 0
      },
      "text/plain": [
       "Batches:   0%|          | 0/22 [00:00<?, ?it/s]"
      ]
     },
     "metadata": {},
     "output_type": "display_data"
    }
   ],
   "source": [
    "embeddings = model.encode(Lines)"
   ]
  },
  {
   "cell_type": "code",
   "execution_count": 6,
   "metadata": {},
   "outputs": [],
   "source": [
    "df = pd.DataFrame()\n",
    "df['text'] = Lines\n",
    "df['embeddings'] = embeddings.tolist()"
   ]
  },
  {
   "cell_type": "code",
   "execution_count": 7,
   "metadata": {},
   "outputs": [
    {
     "data": {
      "text/html": [
       "<div>\n",
       "<style scoped>\n",
       "    .dataframe tbody tr th:only-of-type {\n",
       "        vertical-align: middle;\n",
       "    }\n",
       "\n",
       "    .dataframe tbody tr th {\n",
       "        vertical-align: top;\n",
       "    }\n",
       "\n",
       "    .dataframe thead th {\n",
       "        text-align: right;\n",
       "    }\n",
       "</style>\n",
       "<table border=\"1\" class=\"dataframe\">\n",
       "  <thead>\n",
       "    <tr style=\"text-align: right;\">\n",
       "      <th></th>\n",
       "      <th>text</th>\n",
       "      <th>embeddings</th>\n",
       "    </tr>\n",
       "  </thead>\n",
       "  <tbody>\n",
       "    <tr>\n",
       "      <th>0</th>\n",
       "      <td>From Wikipedia, the free encyclopedia\\n</td>\n",
       "      <td>[-0.01346847228705883, -0.0015914966352283955,...</td>\n",
       "    </tr>\n",
       "    <tr>\n",
       "      <th>1</th>\n",
       "      <td>This article is about the North Eastern Region...</td>\n",
       "      <td>[0.018806032836437225, 0.06984338164329529, 0....</td>\n",
       "    </tr>\n",
       "    <tr>\n",
       "      <th>2</th>\n",
       "      <td>Northeast India\\n</td>\n",
       "      <td>[0.06450401246547699, 0.024881865829229355, -0...</td>\n",
       "    </tr>\n",
       "    <tr>\n",
       "      <th>3</th>\n",
       "      <td>North Eastern Region (NER)\\n</td>\n",
       "      <td>[0.0062939138151705265, 0.07466636598110199, 0...</td>\n",
       "    </tr>\n",
       "    <tr>\n",
       "      <th>4</th>\n",
       "      <td>Northeast india map.png\\n</td>\n",
       "      <td>[0.07192499190568924, 0.060274820774793625, -0...</td>\n",
       "    </tr>\n",
       "  </tbody>\n",
       "</table>\n",
       "</div>"
      ],
      "text/plain": [
       "                                                text  \\\n",
       "0            From Wikipedia, the free encyclopedia\\n   \n",
       "1  This article is about the North Eastern Region...   \n",
       "2                                  Northeast India\\n   \n",
       "3                       North Eastern Region (NER)\\n   \n",
       "4                          Northeast india map.png\\n   \n",
       "\n",
       "                                          embeddings  \n",
       "0  [-0.01346847228705883, -0.0015914966352283955,...  \n",
       "1  [0.018806032836437225, 0.06984338164329529, 0....  \n",
       "2  [0.06450401246547699, 0.024881865829229355, -0...  \n",
       "3  [0.0062939138151705265, 0.07466636598110199, 0...  \n",
       "4  [0.07192499190568924, 0.060274820774793625, -0...  "
      ]
     },
     "execution_count": 7,
     "metadata": {},
     "output_type": "execute_result"
    }
   ],
   "source": [
    "df.head()"
   ]
  },
  {
   "cell_type": "code",
   "execution_count": 8,
   "metadata": {},
   "outputs": [],
   "source": [
    "pickle.dump(df,open(filename_embeddings,\"wb\"))"
   ]
  },
  {
   "cell_type": "code",
   "execution_count": 9,
   "metadata": {},
   "outputs": [],
   "source": [
    "with open(filename_embeddings, 'rb') as f:\n",
    "    df_embeddings = pickle.load(f)"
   ]
  },
  {
   "cell_type": "code",
   "execution_count": 10,
   "metadata": {},
   "outputs": [],
   "source": [
    "user_input=\"What are the geographical features in North East?\""
   ]
  },
  {
   "cell_type": "code",
   "execution_count": 11,
   "metadata": {},
   "outputs": [
    {
     "data": {
      "application/vnd.jupyter.widget-view+json": {
       "model_id": "92134f6d2cd74ff09b8aff0552f49226",
       "version_major": 2,
       "version_minor": 0
      },
      "text/plain": [
       "Batches:   0%|          | 0/1 [00:00<?, ?it/s]"
      ]
     },
     "metadata": {},
     "output_type": "display_data"
    }
   ],
   "source": [
    "q_new = user_input\n",
    "q_new = [model.encode(q_new)]\n",
    "result = cosine_similarity(q_new,df_embeddings[\"embeddings\"].tolist())\n",
    "result_df = pd.DataFrame(result[0], columns = ['sim'])\n",
    "df = pd.DataFrame(df_embeddings[\"text\"].tolist(),columns = [\"text\"])\n",
    "q = pd.concat([df,result_df],axis = 1)\n",
    "q = q.sort_values(by=\"sim\",ascending = False)"
   ]
  },
  {
   "cell_type": "code",
   "execution_count": 12,
   "metadata": {},
   "outputs": [
    {
     "data": {
      "text/html": [
       "<div>\n",
       "<style scoped>\n",
       "    .dataframe tbody tr th:only-of-type {\n",
       "        vertical-align: middle;\n",
       "    }\n",
       "\n",
       "    .dataframe tbody tr th {\n",
       "        vertical-align: top;\n",
       "    }\n",
       "\n",
       "    .dataframe thead th {\n",
       "        text-align: right;\n",
       "    }\n",
       "</style>\n",
       "<table border=\"1\" class=\"dataframe\">\n",
       "  <thead>\n",
       "    <tr style=\"text-align: right;\">\n",
       "      <th></th>\n",
       "      <th>text</th>\n",
       "      <th>sim</th>\n",
       "    </tr>\n",
       "  </thead>\n",
       "  <tbody>\n",
       "    <tr>\n",
       "      <th>3</th>\n",
       "      <td>North Eastern Region (NER)\\n</td>\n",
       "      <td>0.634095</td>\n",
       "    </tr>\n",
       "    <tr>\n",
       "      <th>99</th>\n",
       "      <td>Geography\\n</td>\n",
       "      <td>0.605726</td>\n",
       "    </tr>\n",
       "    <tr>\n",
       "      <th>69</th>\n",
       "      <td>Formation of North Eastern states\\n</td>\n",
       "      <td>0.592888</td>\n",
       "    </tr>\n",
       "    <tr>\n",
       "      <th>1</th>\n",
       "      <td>This article is about the North Eastern Region...</td>\n",
       "      <td>0.547714</td>\n",
       "    </tr>\n",
       "    <tr>\n",
       "      <th>2</th>\n",
       "      <td>Northeast India\\n</td>\n",
       "      <td>0.505196</td>\n",
       "    </tr>\n",
       "  </tbody>\n",
       "</table>\n",
       "</div>"
      ],
      "text/plain": [
       "                                                 text       sim\n",
       "3                        North Eastern Region (NER)\\n  0.634095\n",
       "99                                        Geography\\n  0.605726\n",
       "69                Formation of North Eastern states\\n  0.592888\n",
       "1   This article is about the North Eastern Region...  0.547714\n",
       "2                                   Northeast India\\n  0.505196"
      ]
     },
     "execution_count": 12,
     "metadata": {},
     "output_type": "execute_result"
    }
   ],
   "source": [
    "q.head()"
   ]
  },
  {
   "cell_type": "code",
   "execution_count": 13,
   "metadata": {},
   "outputs": [],
   "source": [
    "context= \"\\n\\n\".join(q[\"text\"][:50])\n",
    "    \n",
    "prompt = create_prompt(context,user_input)\n",
    "reply = generate_answer(prompt)"
   ]
  },
  {
   "cell_type": "code",
   "execution_count": 14,
   "metadata": {},
   "outputs": [
    {
     "data": {
      "text/plain": [
       "'The geographical features in North East include the Eastern Himalaya, the Patkai and the Brahmaputra and the Barak valley plains, mountains and hills by state, the Brahmaputra Valley and Eastern Himalaya, Dzüko Valley (Borders of Nagaland and Manipur), Kangto (shared with China) and Kangchenjunga (shared with Nepal).'"
      ]
     },
     "execution_count": 14,
     "metadata": {},
     "output_type": "execute_result"
    }
   ],
   "source": [
    "reply"
   ]
  }
 ],
 "metadata": {
  "kernelspec": {
   "display_name": "base",
   "language": "python",
   "name": "python3"
  },
  "language_info": {
   "codemirror_mode": {
    "name": "ipython",
    "version": 3
   },
   "file_extension": ".py",
   "mimetype": "text/x-python",
   "name": "python",
   "nbconvert_exporter": "python",
   "pygments_lexer": "ipython3",
   "version": "3.9.13"
  },
  "orig_nbformat": 4
 },
 "nbformat": 4,
 "nbformat_minor": 2
}
