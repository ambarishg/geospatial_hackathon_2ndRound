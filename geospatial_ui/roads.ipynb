{
 "cells": [
  {
   "cell_type": "code",
   "execution_count": 51,
   "id": "d0ef05ff",
   "metadata": {},
   "outputs": [],
   "source": [
    "import geopandas as gpd\n",
    "from shapely.geometry import Polygon, LineString, Point"
   ]
  },
  {
   "cell_type": "code",
   "execution_count": 2,
   "id": "bc4b7479",
   "metadata": {},
   "outputs": [],
   "source": [
    "SHAPE_FILE_ROADS = 'gis_osm_roads_free_1.shp'"
   ]
  },
  {
   "cell_type": "code",
   "execution_count": 3,
   "id": "ab3f4aee",
   "metadata": {},
   "outputs": [],
   "source": [
    "plot_locations = gpd.read_file(SHAPE_FILE_ROADS)"
   ]
  },
  {
   "cell_type": "code",
   "execution_count": 4,
   "id": "48444d9f",
   "metadata": {},
   "outputs": [
    {
     "data": {
      "text/plain": [
       "2111685"
      ]
     },
     "execution_count": 4,
     "metadata": {},
     "output_type": "execute_result"
    }
   ],
   "source": [
    "len(plot_locations)"
   ]
  },
  {
   "cell_type": "code",
   "execution_count": 5,
   "id": "78e4a54f",
   "metadata": {},
   "outputs": [
    {
     "data": {
      "text/html": [
       "<div>\n",
       "<style scoped>\n",
       "    .dataframe tbody tr th:only-of-type {\n",
       "        vertical-align: middle;\n",
       "    }\n",
       "\n",
       "    .dataframe tbody tr th {\n",
       "        vertical-align: top;\n",
       "    }\n",
       "\n",
       "    .dataframe thead th {\n",
       "        text-align: right;\n",
       "    }\n",
       "</style>\n",
       "<table border=\"1\" class=\"dataframe\">\n",
       "  <thead>\n",
       "    <tr style=\"text-align: right;\">\n",
       "      <th></th>\n",
       "      <th>osm_id</th>\n",
       "      <th>code</th>\n",
       "      <th>fclass</th>\n",
       "      <th>name</th>\n",
       "      <th>ref</th>\n",
       "      <th>oneway</th>\n",
       "      <th>maxspeed</th>\n",
       "      <th>layer</th>\n",
       "      <th>bridge</th>\n",
       "      <th>tunnel</th>\n",
       "      <th>geometry</th>\n",
       "    </tr>\n",
       "  </thead>\n",
       "  <tbody>\n",
       "    <tr>\n",
       "      <th>0</th>\n",
       "      <td>3187224</td>\n",
       "      <td>5115</td>\n",
       "      <td>tertiary</td>\n",
       "      <td>Sha Road</td>\n",
       "      <td>None</td>\n",
       "      <td>B</td>\n",
       "      <td>0</td>\n",
       "      <td>0</td>\n",
       "      <td>F</td>\n",
       "      <td>F</td>\n",
       "      <td>LINESTRING (76.32194 10.30471, 76.32174 10.304...</td>\n",
       "    </tr>\n",
       "    <tr>\n",
       "      <th>1</th>\n",
       "      <td>3191425</td>\n",
       "      <td>5115</td>\n",
       "      <td>tertiary</td>\n",
       "      <td>U2</td>\n",
       "      <td>None</td>\n",
       "      <td>B</td>\n",
       "      <td>0</td>\n",
       "      <td>0</td>\n",
       "      <td>F</td>\n",
       "      <td>F</td>\n",
       "      <td>LINESTRING (76.33476 10.30725, 76.33477 10.306...</td>\n",
       "    </tr>\n",
       "    <tr>\n",
       "      <th>2</th>\n",
       "      <td>3191428</td>\n",
       "      <td>5115</td>\n",
       "      <td>tertiary</td>\n",
       "      <td>Transport Bustand Road</td>\n",
       "      <td>None</td>\n",
       "      <td>B</td>\n",
       "      <td>0</td>\n",
       "      <td>0</td>\n",
       "      <td>F</td>\n",
       "      <td>F</td>\n",
       "      <td>LINESTRING (76.33261 10.29997, 76.33282 10.300...</td>\n",
       "    </tr>\n",
       "    <tr>\n",
       "      <th>3</th>\n",
       "      <td>3191437</td>\n",
       "      <td>5115</td>\n",
       "      <td>tertiary</td>\n",
       "      <td>Housing Board</td>\n",
       "      <td>None</td>\n",
       "      <td>B</td>\n",
       "      <td>0</td>\n",
       "      <td>0</td>\n",
       "      <td>F</td>\n",
       "      <td>F</td>\n",
       "      <td>LINESTRING (76.33261 10.29997, 76.33327 10.299...</td>\n",
       "    </tr>\n",
       "    <tr>\n",
       "      <th>4</th>\n",
       "      <td>3194810</td>\n",
       "      <td>5115</td>\n",
       "      <td>tertiary</td>\n",
       "      <td>Market Road</td>\n",
       "      <td>None</td>\n",
       "      <td>B</td>\n",
       "      <td>0</td>\n",
       "      <td>0</td>\n",
       "      <td>F</td>\n",
       "      <td>F</td>\n",
       "      <td>LINESTRING (76.33898 10.30246, 76.33906 10.305...</td>\n",
       "    </tr>\n",
       "  </tbody>\n",
       "</table>\n",
       "</div>"
      ],
      "text/plain": [
       "    osm_id  code    fclass                    name   ref oneway  maxspeed  \\\n",
       "0  3187224  5115  tertiary                Sha Road  None      B         0   \n",
       "1  3191425  5115  tertiary                      U2  None      B         0   \n",
       "2  3191428  5115  tertiary  Transport Bustand Road  None      B         0   \n",
       "3  3191437  5115  tertiary           Housing Board  None      B         0   \n",
       "4  3194810  5115  tertiary             Market Road  None      B         0   \n",
       "\n",
       "   layer bridge tunnel                                           geometry  \n",
       "0      0      F      F  LINESTRING (76.32194 10.30471, 76.32174 10.304...  \n",
       "1      0      F      F  LINESTRING (76.33476 10.30725, 76.33477 10.306...  \n",
       "2      0      F      F  LINESTRING (76.33261 10.29997, 76.33282 10.300...  \n",
       "3      0      F      F  LINESTRING (76.33261 10.29997, 76.33327 10.299...  \n",
       "4      0      F      F  LINESTRING (76.33898 10.30246, 76.33906 10.305...  "
      ]
     },
     "execution_count": 5,
     "metadata": {},
     "output_type": "execute_result"
    }
   ],
   "source": [
    "plot_locations.head()"
   ]
  },
  {
   "cell_type": "code",
   "execution_count": 7,
   "id": "4a998a52",
   "metadata": {},
   "outputs": [
    {
     "data": {
      "text/plain": [
       "residential       1090574\n",
       "unclassified       364722\n",
       "tertiary           170112\n",
       "service            134419\n",
       "track               56382\n",
       "trunk               49761\n",
       "secondary           49227\n",
       "primary             40863\n",
       "path                38625\n",
       "living_street       38612\n",
       "footway             23129\n",
       "unknown             19872\n",
       "track_grade3         6447\n",
       "trunk_link           5607\n",
       "steps                3663\n",
       "track_grade2         3433\n",
       "tertiary_link        2876\n",
       "motorway             2544\n",
       "primary_link         2378\n",
       "pedestrian           2286\n",
       "track_grade1         1843\n",
       "secondary_link       1556\n",
       "motorway_link         904\n",
       "track_grade5          561\n",
       "track_grade4          522\n",
       "cycleway              461\n",
       "bridleway             306\n",
       "Name: fclass, dtype: int64"
      ]
     },
     "execution_count": 7,
     "metadata": {},
     "output_type": "execute_result"
    }
   ],
   "source": [
    "plot_locations.fclass.value_counts()"
   ]
  },
  {
   "cell_type": "code",
   "execution_count": 10,
   "id": "8e996f32",
   "metadata": {},
   "outputs": [],
   "source": [
    "motorway = plot_locations[plot_locations.fclass == 'motorway']"
   ]
  },
  {
   "cell_type": "code",
   "execution_count": 14,
   "id": "daf920fe",
   "metadata": {},
   "outputs": [
    {
     "data": {
      "text/html": [
       "<div>\n",
       "<style scoped>\n",
       "    .dataframe tbody tr th:only-of-type {\n",
       "        vertical-align: middle;\n",
       "    }\n",
       "\n",
       "    .dataframe tbody tr th {\n",
       "        vertical-align: top;\n",
       "    }\n",
       "\n",
       "    .dataframe thead th {\n",
       "        text-align: right;\n",
       "    }\n",
       "</style>\n",
       "<table border=\"1\" class=\"dataframe\">\n",
       "  <thead>\n",
       "    <tr style=\"text-align: right;\">\n",
       "      <th></th>\n",
       "      <th>osm_id</th>\n",
       "      <th>code</th>\n",
       "      <th>fclass</th>\n",
       "      <th>name</th>\n",
       "      <th>ref</th>\n",
       "      <th>oneway</th>\n",
       "      <th>maxspeed</th>\n",
       "      <th>layer</th>\n",
       "      <th>bridge</th>\n",
       "      <th>tunnel</th>\n",
       "      <th>geometry</th>\n",
       "    </tr>\n",
       "  </thead>\n",
       "  <tbody>\n",
       "    <tr>\n",
       "      <th>1030</th>\n",
       "      <td>22828588</td>\n",
       "      <td>5111</td>\n",
       "      <td>motorway</td>\n",
       "      <td>Vidyasagar Setu</td>\n",
       "      <td>NH12</td>\n",
       "      <td>F</td>\n",
       "      <td>50</td>\n",
       "      <td>1</td>\n",
       "      <td>T</td>\n",
       "      <td>F</td>\n",
       "      <td>LINESTRING (88.33195 22.55086, 88.33229 22.551...</td>\n",
       "    </tr>\n",
       "    <tr>\n",
       "      <th>2695</th>\n",
       "      <td>22842009</td>\n",
       "      <td>5111</td>\n",
       "      <td>motorway</td>\n",
       "      <td>Mumbai-Pune Expressway</td>\n",
       "      <td>MPE</td>\n",
       "      <td>F</td>\n",
       "      <td>80</td>\n",
       "      <td>0</td>\n",
       "      <td>F</td>\n",
       "      <td>F</td>\n",
       "      <td>LINESTRING (73.28550 18.80115, 73.28611 18.800...</td>\n",
       "    </tr>\n",
       "    <tr>\n",
       "      <th>2696</th>\n",
       "      <td>22842010</td>\n",
       "      <td>5111</td>\n",
       "      <td>motorway</td>\n",
       "      <td>Kamshet-1 Tunnel</td>\n",
       "      <td>MPE</td>\n",
       "      <td>F</td>\n",
       "      <td>80</td>\n",
       "      <td>-1</td>\n",
       "      <td>F</td>\n",
       "      <td>T</td>\n",
       "      <td>LINESTRING (73.53336 18.73556, 73.53365 18.735...</td>\n",
       "    </tr>\n",
       "    <tr>\n",
       "      <th>2697</th>\n",
       "      <td>22842022</td>\n",
       "      <td>5111</td>\n",
       "      <td>motorway</td>\n",
       "      <td>Mumbai-Pune Expressway</td>\n",
       "      <td>MPE</td>\n",
       "      <td>F</td>\n",
       "      <td>80</td>\n",
       "      <td>0</td>\n",
       "      <td>F</td>\n",
       "      <td>F</td>\n",
       "      <td>LINESTRING (73.38007 18.75990, 73.38011 18.759...</td>\n",
       "    </tr>\n",
       "    <tr>\n",
       "      <th>2698</th>\n",
       "      <td>22842025</td>\n",
       "      <td>5111</td>\n",
       "      <td>motorway</td>\n",
       "      <td>Mumbai-Pune Expressway</td>\n",
       "      <td>MPE</td>\n",
       "      <td>F</td>\n",
       "      <td>80</td>\n",
       "      <td>0</td>\n",
       "      <td>F</td>\n",
       "      <td>F</td>\n",
       "      <td>LINESTRING (73.53975 18.72958, 73.54259 18.727...</td>\n",
       "    </tr>\n",
       "    <tr>\n",
       "      <th>...</th>\n",
       "      <td>...</td>\n",
       "      <td>...</td>\n",
       "      <td>...</td>\n",
       "      <td>...</td>\n",
       "      <td>...</td>\n",
       "      <td>...</td>\n",
       "      <td>...</td>\n",
       "      <td>...</td>\n",
       "      <td>...</td>\n",
       "      <td>...</td>\n",
       "      <td>...</td>\n",
       "    </tr>\n",
       "    <tr>\n",
       "      <th>2037828</th>\n",
       "      <td>566033844</td>\n",
       "      <td>5111</td>\n",
       "      <td>motorway</td>\n",
       "      <td>National Highway</td>\n",
       "      <td>NH326A</td>\n",
       "      <td>B</td>\n",
       "      <td>0</td>\n",
       "      <td>0</td>\n",
       "      <td>F</td>\n",
       "      <td>F</td>\n",
       "      <td>LINESTRING (84.15153 18.81576, 84.15184 18.81598)</td>\n",
       "    </tr>\n",
       "    <tr>\n",
       "      <th>2092935</th>\n",
       "      <td>578082980</td>\n",
       "      <td>5111</td>\n",
       "      <td>motorway</td>\n",
       "      <td>BRTS Route</td>\n",
       "      <td>None</td>\n",
       "      <td>B</td>\n",
       "      <td>0</td>\n",
       "      <td>0</td>\n",
       "      <td>F</td>\n",
       "      <td>F</td>\n",
       "      <td>LINESTRING (72.61139 22.99781, 72.61115 22.998...</td>\n",
       "    </tr>\n",
       "    <tr>\n",
       "      <th>2092936</th>\n",
       "      <td>578082982</td>\n",
       "      <td>5111</td>\n",
       "      <td>motorway</td>\n",
       "      <td>BRTS Path</td>\n",
       "      <td>None</td>\n",
       "      <td>B</td>\n",
       "      <td>0</td>\n",
       "      <td>0</td>\n",
       "      <td>F</td>\n",
       "      <td>F</td>\n",
       "      <td>LINESTRING (72.61079 22.99821, 72.61040 22.998...</td>\n",
       "    </tr>\n",
       "    <tr>\n",
       "      <th>2103474</th>\n",
       "      <td>582590142</td>\n",
       "      <td>5111</td>\n",
       "      <td>motorway</td>\n",
       "      <td>None</td>\n",
       "      <td>None</td>\n",
       "      <td>B</td>\n",
       "      <td>0</td>\n",
       "      <td>1</td>\n",
       "      <td>T</td>\n",
       "      <td>F</td>\n",
       "      <td>LINESTRING (72.95083 21.45593, 72.95128 21.455...</td>\n",
       "    </tr>\n",
       "    <tr>\n",
       "      <th>2106841</th>\n",
       "      <td>583642995</td>\n",
       "      <td>5111</td>\n",
       "      <td>motorway</td>\n",
       "      <td>None</td>\n",
       "      <td>None</td>\n",
       "      <td>B</td>\n",
       "      <td>0</td>\n",
       "      <td>0</td>\n",
       "      <td>F</td>\n",
       "      <td>F</td>\n",
       "      <td>LINESTRING (77.32864 28.54603, 77.33065 28.544...</td>\n",
       "    </tr>\n",
       "  </tbody>\n",
       "</table>\n",
       "<p>2544 rows × 11 columns</p>\n",
       "</div>"
      ],
      "text/plain": [
       "            osm_id  code    fclass                    name     ref oneway  \\\n",
       "1030      22828588  5111  motorway         Vidyasagar Setu    NH12      F   \n",
       "2695      22842009  5111  motorway  Mumbai-Pune Expressway     MPE      F   \n",
       "2696      22842010  5111  motorway        Kamshet-1 Tunnel     MPE      F   \n",
       "2697      22842022  5111  motorway  Mumbai-Pune Expressway     MPE      F   \n",
       "2698      22842025  5111  motorway  Mumbai-Pune Expressway     MPE      F   \n",
       "...            ...   ...       ...                     ...     ...    ...   \n",
       "2037828  566033844  5111  motorway        National Highway  NH326A      B   \n",
       "2092935  578082980  5111  motorway              BRTS Route    None      B   \n",
       "2092936  578082982  5111  motorway               BRTS Path    None      B   \n",
       "2103474  582590142  5111  motorway                    None    None      B   \n",
       "2106841  583642995  5111  motorway                    None    None      B   \n",
       "\n",
       "         maxspeed  layer bridge tunnel  \\\n",
       "1030           50      1      T      F   \n",
       "2695           80      0      F      F   \n",
       "2696           80     -1      F      T   \n",
       "2697           80      0      F      F   \n",
       "2698           80      0      F      F   \n",
       "...           ...    ...    ...    ...   \n",
       "2037828         0      0      F      F   \n",
       "2092935         0      0      F      F   \n",
       "2092936         0      0      F      F   \n",
       "2103474         0      1      T      F   \n",
       "2106841         0      0      F      F   \n",
       "\n",
       "                                                  geometry  \n",
       "1030     LINESTRING (88.33195 22.55086, 88.33229 22.551...  \n",
       "2695     LINESTRING (73.28550 18.80115, 73.28611 18.800...  \n",
       "2696     LINESTRING (73.53336 18.73556, 73.53365 18.735...  \n",
       "2697     LINESTRING (73.38007 18.75990, 73.38011 18.759...  \n",
       "2698     LINESTRING (73.53975 18.72958, 73.54259 18.727...  \n",
       "...                                                    ...  \n",
       "2037828  LINESTRING (84.15153 18.81576, 84.15184 18.81598)  \n",
       "2092935  LINESTRING (72.61139 22.99781, 72.61115 22.998...  \n",
       "2092936  LINESTRING (72.61079 22.99821, 72.61040 22.998...  \n",
       "2103474  LINESTRING (72.95083 21.45593, 72.95128 21.455...  \n",
       "2106841  LINESTRING (77.32864 28.54603, 77.33065 28.544...  \n",
       "\n",
       "[2544 rows x 11 columns]"
      ]
     },
     "execution_count": 14,
     "metadata": {},
     "output_type": "execute_result"
    }
   ],
   "source": [
    "motorway"
   ]
  },
  {
   "cell_type": "code",
   "execution_count": 19,
   "id": "505e900f",
   "metadata": {},
   "outputs": [],
   "source": [
    "line = LineString([(72.61139,22.99781), (77.32864,28.54603)])"
   ]
  },
  {
   "cell_type": "code",
   "execution_count": 29,
   "id": "7d824a1a",
   "metadata": {},
   "outputs": [
    {
     "data": {
      "text/html": [
       "<div style=\"width:100%;\"><div style=\"position:relative;width:100%;height:0;padding-bottom:60%;\"><span style=\"color:#565656\">Make this Notebook Trusted to load map: File -> Trust Notebook</span><iframe srcdoc=\"&lt;!DOCTYPE html&gt;\n",
       "&lt;html&gt;\n",
       "&lt;head&gt;\n",
       "    \n",
       "    &lt;meta http-equiv=&quot;content-type&quot; content=&quot;text/html; charset=UTF-8&quot; /&gt;\n",
       "    \n",
       "        &lt;script&gt;\n",
       "            L_NO_TOUCH = false;\n",
       "            L_DISABLE_3D = false;\n",
       "        &lt;/script&gt;\n",
       "    \n",
       "    &lt;style&gt;html, body {width: 100%;height: 100%;margin: 0;padding: 0;}&lt;/style&gt;\n",
       "    &lt;style&gt;#map {position:absolute;top:0;bottom:0;right:0;left:0;}&lt;/style&gt;\n",
       "    &lt;script src=&quot;https://cdn.jsdelivr.net/npm/leaflet@1.9.3/dist/leaflet.js&quot;&gt;&lt;/script&gt;\n",
       "    &lt;script src=&quot;https://code.jquery.com/jquery-1.12.4.min.js&quot;&gt;&lt;/script&gt;\n",
       "    &lt;script src=&quot;https://cdn.jsdelivr.net/npm/bootstrap@5.2.2/dist/js/bootstrap.bundle.min.js&quot;&gt;&lt;/script&gt;\n",
       "    &lt;script src=&quot;https://cdnjs.cloudflare.com/ajax/libs/Leaflet.awesome-markers/2.0.2/leaflet.awesome-markers.js&quot;&gt;&lt;/script&gt;\n",
       "    &lt;link rel=&quot;stylesheet&quot; href=&quot;https://cdn.jsdelivr.net/npm/leaflet@1.9.3/dist/leaflet.css&quot;/&gt;\n",
       "    &lt;link rel=&quot;stylesheet&quot; href=&quot;https://cdn.jsdelivr.net/npm/bootstrap@5.2.2/dist/css/bootstrap.min.css&quot;/&gt;\n",
       "    &lt;link rel=&quot;stylesheet&quot; href=&quot;https://netdna.bootstrapcdn.com/bootstrap/3.0.0/css/bootstrap.min.css&quot;/&gt;\n",
       "    &lt;link rel=&quot;stylesheet&quot; href=&quot;https://cdn.jsdelivr.net/npm/@fortawesome/fontawesome-free@6.2.0/css/all.min.css&quot;/&gt;\n",
       "    &lt;link rel=&quot;stylesheet&quot; href=&quot;https://cdnjs.cloudflare.com/ajax/libs/Leaflet.awesome-markers/2.0.2/leaflet.awesome-markers.css&quot;/&gt;\n",
       "    &lt;link rel=&quot;stylesheet&quot; href=&quot;https://cdn.jsdelivr.net/gh/python-visualization/folium/folium/templates/leaflet.awesome.rotate.min.css&quot;/&gt;\n",
       "    \n",
       "            &lt;meta name=&quot;viewport&quot; content=&quot;width=device-width,\n",
       "                initial-scale=1.0, maximum-scale=1.0, user-scalable=no&quot; /&gt;\n",
       "            &lt;style&gt;\n",
       "                #map_7265bb69afe383a30a1f7a37f16214ce {\n",
       "                    position: relative;\n",
       "                    width: 100.0%;\n",
       "                    height: 100.0%;\n",
       "                    left: 0.0%;\n",
       "                    top: 0.0%;\n",
       "                }\n",
       "                .leaflet-container { font-size: 1rem; }\n",
       "            &lt;/style&gt;\n",
       "        \n",
       "    \n",
       "                    &lt;style&gt;\n",
       "                        .foliumtooltip {\n",
       "                            \n",
       "                        }\n",
       "                       .foliumtooltip table{\n",
       "                            margin: auto;\n",
       "                        }\n",
       "                        .foliumtooltip tr{\n",
       "                            text-align: left;\n",
       "                        }\n",
       "                        .foliumtooltip th{\n",
       "                            padding: 2px; padding-right: 8px;\n",
       "                        }\n",
       "                    &lt;/style&gt;\n",
       "            \n",
       "&lt;/head&gt;\n",
       "&lt;body&gt;\n",
       "    \n",
       "    \n",
       "            &lt;div class=&quot;folium-map&quot; id=&quot;map_7265bb69afe383a30a1f7a37f16214ce&quot; &gt;&lt;/div&gt;\n",
       "        \n",
       "&lt;/body&gt;\n",
       "&lt;script&gt;\n",
       "    \n",
       "    \n",
       "            var map_7265bb69afe383a30a1f7a37f16214ce = L.map(\n",
       "                &quot;map_7265bb69afe383a30a1f7a37f16214ce&quot;,\n",
       "                {\n",
       "                    center: [22.55069225, 88.3288577],\n",
       "                    crs: L.CRS.EPSG3857,\n",
       "                    zoom: 10,\n",
       "                    zoomControl: true,\n",
       "                    preferCanvas: false,\n",
       "                }\n",
       "            );\n",
       "            L.control.scale().addTo(map_7265bb69afe383a30a1f7a37f16214ce);\n",
       "\n",
       "            \n",
       "\n",
       "        \n",
       "    \n",
       "            var tile_layer_6fd4dbad311f36d053168475239e9ae0 = L.tileLayer(\n",
       "                &quot;https://{s}.tile.openstreetmap.org/{z}/{x}/{y}.png&quot;,\n",
       "                {&quot;attribution&quot;: &quot;Data by \\u0026copy; \\u003ca target=\\&quot;_blank\\&quot; href=\\&quot;http://openstreetmap.org\\&quot;\\u003eOpenStreetMap\\u003c/a\\u003e, under \\u003ca target=\\&quot;_blank\\&quot; href=\\&quot;http://www.openstreetmap.org/copyright\\&quot;\\u003eODbL\\u003c/a\\u003e.&quot;, &quot;detectRetina&quot;: false, &quot;maxNativeZoom&quot;: 18, &quot;maxZoom&quot;: 18, &quot;minZoom&quot;: 0, &quot;noWrap&quot;: false, &quot;opacity&quot;: 1, &quot;subdomains&quot;: &quot;abc&quot;, &quot;tms&quot;: false}\n",
       "            ).addTo(map_7265bb69afe383a30a1f7a37f16214ce);\n",
       "        \n",
       "    \n",
       "            map_7265bb69afe383a30a1f7a37f16214ce.fitBounds(\n",
       "                [[22.5422422, 88.3251291], [22.5591423, 88.3325863]],\n",
       "                {}\n",
       "            );\n",
       "        \n",
       "    \n",
       "        function geo_json_1e6a90d663ade5eff9bcb369c64b346d_styler(feature) {\n",
       "            switch(feature.id) {\n",
       "                default:\n",
       "                    return {&quot;fillOpacity&quot;: 0.5, &quot;weight&quot;: 2};\n",
       "            }\n",
       "        }\n",
       "        function geo_json_1e6a90d663ade5eff9bcb369c64b346d_highlighter(feature) {\n",
       "            switch(feature.id) {\n",
       "                default:\n",
       "                    return {&quot;fillOpacity&quot;: 0.75};\n",
       "            }\n",
       "        }\n",
       "        function geo_json_1e6a90d663ade5eff9bcb369c64b346d_pointToLayer(feature, latlng) {\n",
       "            var opts = {&quot;bubblingMouseEvents&quot;: true, &quot;color&quot;: &quot;#3388ff&quot;, &quot;dashArray&quot;: null, &quot;dashOffset&quot;: null, &quot;fill&quot;: true, &quot;fillColor&quot;: &quot;#3388ff&quot;, &quot;fillOpacity&quot;: 0.2, &quot;fillRule&quot;: &quot;evenodd&quot;, &quot;lineCap&quot;: &quot;round&quot;, &quot;lineJoin&quot;: &quot;round&quot;, &quot;opacity&quot;: 1.0, &quot;radius&quot;: 2, &quot;stroke&quot;: true, &quot;weight&quot;: 3};\n",
       "            \n",
       "            let style = geo_json_1e6a90d663ade5eff9bcb369c64b346d_styler(feature)\n",
       "            Object.assign(opts, style)\n",
       "            \n",
       "            return new L.CircleMarker(latlng, opts)\n",
       "        }\n",
       "\n",
       "        function geo_json_1e6a90d663ade5eff9bcb369c64b346d_onEachFeature(feature, layer) {\n",
       "            layer.on({\n",
       "                mouseout: function(e) {\n",
       "                    if(typeof e.target.setStyle === &quot;function&quot;){\n",
       "                        geo_json_1e6a90d663ade5eff9bcb369c64b346d.resetStyle(e.target);\n",
       "                    }\n",
       "                },\n",
       "                mouseover: function(e) {\n",
       "                    if(typeof e.target.setStyle === &quot;function&quot;){\n",
       "                        const highlightStyle = geo_json_1e6a90d663ade5eff9bcb369c64b346d_highlighter(e.target.feature)\n",
       "                        e.target.setStyle(highlightStyle);\n",
       "                    }\n",
       "                },\n",
       "            });\n",
       "        };\n",
       "        var geo_json_1e6a90d663ade5eff9bcb369c64b346d = L.geoJson(null, {\n",
       "                onEachFeature: geo_json_1e6a90d663ade5eff9bcb369c64b346d_onEachFeature,\n",
       "            \n",
       "                style: geo_json_1e6a90d663ade5eff9bcb369c64b346d_styler,\n",
       "                pointToLayer: geo_json_1e6a90d663ade5eff9bcb369c64b346d_pointToLayer\n",
       "        });\n",
       "\n",
       "        function geo_json_1e6a90d663ade5eff9bcb369c64b346d_add (data) {\n",
       "            geo_json_1e6a90d663ade5eff9bcb369c64b346d\n",
       "                .addData(data)\n",
       "                .addTo(map_7265bb69afe383a30a1f7a37f16214ce);\n",
       "        }\n",
       "            geo_json_1e6a90d663ade5eff9bcb369c64b346d_add({&quot;bbox&quot;: [88.3251291, 22.5422422, 88.3325863, 22.5591423], &quot;features&quot;: [{&quot;bbox&quot;: [88.3251291, 22.5508633, 88.3324509, 22.559038], &quot;geometry&quot;: {&quot;coordinates&quot;: [[88.3319469, 22.5508633], [88.3322859, 22.5515228], [88.3323883, 22.5518062], [88.3324469, 22.5521272], [88.3324509, 22.5523702], [88.3324254, 22.5525929], [88.3323871, 22.5528338], [88.332301, 22.5531003], [88.332081, 22.5534666], [88.3318243, 22.5537991], [88.3299256, 22.5553276], [88.3251291, 22.559038]], &quot;type&quot;: &quot;LineString&quot;}, &quot;id&quot;: &quot;1030&quot;, &quot;properties&quot;: {&quot;bridge&quot;: &quot;T&quot;, &quot;code&quot;: 5111, &quot;fclass&quot;: &quot;motorway&quot;, &quot;layer&quot;: 1, &quot;maxspeed&quot;: 50, &quot;name&quot;: &quot;Vidyasagar Setu&quot;, &quot;oneway&quot;: &quot;F&quot;, &quot;osm_id&quot;: &quot;22828588&quot;, &quot;ref&quot;: &quot;NH12&quot;, &quot;tunnel&quot;: &quot;F&quot;}, &quot;type&quot;: &quot;Feature&quot;}, {&quot;bbox&quot;: [88.3296516, 22.5422422, 88.331698, 22.5464353], &quot;geometry&quot;: {&quot;coordinates&quot;: [[88.331698, 22.5422422], [88.3313503, 22.5424266], [88.3310375, 22.5425922], [88.3307193, 22.5427895], [88.3303918, 22.5430519], [88.3300652, 22.5434052], [88.3298522, 22.5437871], [88.3297712, 22.5439947], [88.3296878, 22.5443994], [88.3296548, 22.5446993], [88.3296516, 22.5449533], [88.329661, 22.5451792], [88.3298817, 22.5464353]], &quot;type&quot;: &quot;LineString&quot;}, &quot;id&quot;: &quot;48918&quot;, &quot;properties&quot;: {&quot;bridge&quot;: &quot;T&quot;, &quot;code&quot;: 5111, &quot;fclass&quot;: &quot;motorway&quot;, &quot;layer&quot;: 1, &quot;maxspeed&quot;: 40, &quot;name&quot;: &quot;Vidyasagar Setu&quot;, &quot;oneway&quot;: &quot;F&quot;, &quot;osm_id&quot;: &quot;36166905&quot;, &quot;ref&quot;: &quot;NH12&quot;, &quot;tunnel&quot;: &quot;F&quot;}, &quot;type&quot;: &quot;Feature&quot;}, {&quot;bbox&quot;: [88.325247, 22.5523353, 88.3325863, 22.5591423], &quot;geometry&quot;: {&quot;coordinates&quot;: [[88.325247, 22.5591423], [88.3313525, 22.5543665], [88.331751, 22.5540422], [88.3321143, 22.5536927], [88.3324031, 22.5532044], [88.332532, 22.5528375], [88.3325863, 22.5523353]], &quot;type&quot;: &quot;LineString&quot;}, &quot;id&quot;: &quot;68367&quot;, &quot;properties&quot;: {&quot;bridge&quot;: &quot;T&quot;, &quot;code&quot;: 5111, &quot;fclass&quot;: &quot;motorway&quot;, &quot;layer&quot;: 1, &quot;maxspeed&quot;: 50, &quot;name&quot;: &quot;Vidyasagar Setu&quot;, &quot;oneway&quot;: &quot;F&quot;, &quot;osm_id&quot;: &quot;52097406&quot;, &quot;ref&quot;: &quot;NH12&quot;, &quot;tunnel&quot;: &quot;F&quot;}, &quot;type&quot;: &quot;Feature&quot;}, {&quot;bbox&quot;: [88.3307119, 22.5477257, 88.3325863, 22.5523353], &quot;geometry&quot;: {&quot;coordinates&quot;: [[88.3325863, 22.5523353], [88.33258, 22.5521209], [88.3325507, 22.551916], [88.3324698, 22.5516062], [88.3323396, 22.5512949], [88.3315017, 22.5497438], [88.3312471, 22.5493045], [88.3311035, 22.5490097], [88.3310016, 22.5487981], [88.3309069, 22.5484909], [88.3308305, 22.5481519], [88.3307536, 22.5479856], [88.3307119, 22.5477257]], &quot;type&quot;: &quot;LineString&quot;}, &quot;id&quot;: &quot;106312&quot;, &quot;properties&quot;: {&quot;bridge&quot;: &quot;T&quot;, &quot;code&quot;: 5111, &quot;fclass&quot;: &quot;motorway&quot;, &quot;layer&quot;: 1, &quot;maxspeed&quot;: 40, &quot;name&quot;: &quot;Vidyasagar Setu&quot;, &quot;oneway&quot;: &quot;F&quot;, &quot;osm_id&quot;: &quot;92642039&quot;, &quot;ref&quot;: &quot;NH12&quot;, &quot;tunnel&quot;: &quot;F&quot;}, &quot;type&quot;: &quot;Feature&quot;}, {&quot;bbox&quot;: [88.330372, 22.545757, 88.3307119, 22.5477257], &quot;geometry&quot;: {&quot;coordinates&quot;: [[88.3307119, 22.5477257], [88.3306801, 22.5468647], [88.3306414, 22.5466179], [88.3305775, 22.546345], [88.330372, 22.545757]], &quot;type&quot;: &quot;LineString&quot;}, &quot;id&quot;: &quot;372155&quot;, &quot;properties&quot;: {&quot;bridge&quot;: &quot;T&quot;, &quot;code&quot;: 5111, &quot;fclass&quot;: &quot;motorway&quot;, &quot;layer&quot;: 2, &quot;maxspeed&quot;: 40, &quot;name&quot;: &quot;Vidyasagar Setu&quot;, &quot;oneway&quot;: &quot;F&quot;, &quot;osm_id&quot;: &quot;205161179&quot;, &quot;ref&quot;: &quot;NH12&quot;, &quot;tunnel&quot;: &quot;F&quot;}, &quot;type&quot;: &quot;Feature&quot;}, {&quot;bbox&quot;: [88.3300077, 22.5425558, 88.3313838, 22.545757], &quot;geometry&quot;: {&quot;coordinates&quot;: [[88.330372, 22.545757], [88.3301389, 22.5450518], [88.3300768, 22.5448562], [88.3300151, 22.5445926], [88.3300077, 22.5443569], [88.3300314, 22.5440303], [88.3301037, 22.5437658], [88.330266, 22.5434505], [88.3304078, 22.5432641], [88.3305632, 22.5431195], [88.3307998, 22.5429421], [88.3310969, 22.5427577], [88.3312926, 22.542641], [88.3313838, 22.5425558]], &quot;type&quot;: &quot;LineString&quot;}, &quot;id&quot;: &quot;372157&quot;, &quot;properties&quot;: {&quot;bridge&quot;: &quot;T&quot;, &quot;code&quot;: 5111, &quot;fclass&quot;: &quot;motorway&quot;, &quot;layer&quot;: 1, &quot;maxspeed&quot;: 40, &quot;name&quot;: &quot;Vidyasagar Setu&quot;, &quot;oneway&quot;: &quot;F&quot;, &quot;osm_id&quot;: &quot;205161181&quot;, &quot;ref&quot;: &quot;NH12&quot;, &quot;tunnel&quot;: &quot;F&quot;}, &quot;type&quot;: &quot;Feature&quot;}, {&quot;bbox&quot;: [88.3298817, 22.5464353, 88.3319469, 22.5508633], &quot;geometry&quot;: {&quot;coordinates&quot;: [[88.3298817, 22.5464353], [88.3299973, 22.5473676], [88.3300681, 22.5476487], [88.3301832, 22.5479472], [88.3303256, 22.5481833], [88.3308067, 22.548997], [88.3310517, 22.5493511], [88.3315099, 22.5500868], [88.3319469, 22.5508633]], &quot;type&quot;: &quot;LineString&quot;}, &quot;id&quot;: &quot;376437&quot;, &quot;properties&quot;: {&quot;bridge&quot;: &quot;T&quot;, &quot;code&quot;: 5111, &quot;fclass&quot;: &quot;motorway&quot;, &quot;layer&quot;: 2, &quot;maxspeed&quot;: 40, &quot;name&quot;: &quot;Vidyasagar Setu&quot;, &quot;oneway&quot;: &quot;F&quot;, &quot;osm_id&quot;: &quot;206346788&quot;, &quot;ref&quot;: &quot;NH12&quot;, &quot;tunnel&quot;: &quot;F&quot;}, &quot;type&quot;: &quot;Feature&quot;}], &quot;type&quot;: &quot;FeatureCollection&quot;});\n",
       "\n",
       "        \n",
       "    \n",
       "    geo_json_1e6a90d663ade5eff9bcb369c64b346d.bindTooltip(\n",
       "    function(layer){\n",
       "    let div = L.DomUtil.create(&#x27;div&#x27;);\n",
       "    \n",
       "    let handleObject = feature=&gt;typeof(feature)==&#x27;object&#x27; ? JSON.stringify(feature) : feature;\n",
       "    let fields = [&quot;osm_id&quot;, &quot;code&quot;, &quot;fclass&quot;, &quot;name&quot;, &quot;ref&quot;, &quot;oneway&quot;, &quot;maxspeed&quot;, &quot;layer&quot;, &quot;bridge&quot;, &quot;tunnel&quot;];\n",
       "    let aliases = [&quot;osm_id&quot;, &quot;code&quot;, &quot;fclass&quot;, &quot;name&quot;, &quot;ref&quot;, &quot;oneway&quot;, &quot;maxspeed&quot;, &quot;layer&quot;, &quot;bridge&quot;, &quot;tunnel&quot;];\n",
       "    let table = &#x27;&lt;table&gt;&#x27; +\n",
       "        String(\n",
       "        fields.map(\n",
       "        (v,i)=&gt;\n",
       "        `&lt;tr&gt;\n",
       "            &lt;th&gt;${aliases[i]}&lt;/th&gt;\n",
       "            \n",
       "            &lt;td&gt;${handleObject(layer.feature.properties[v])}&lt;/td&gt;\n",
       "        &lt;/tr&gt;`).join(&#x27;&#x27;))\n",
       "    +&#x27;&lt;/table&gt;&#x27;;\n",
       "    div.innerHTML=table;\n",
       "    \n",
       "    return div\n",
       "    }\n",
       "    ,{&quot;className&quot;: &quot;foliumtooltip&quot;, &quot;sticky&quot;: true});\n",
       "                     \n",
       "&lt;/script&gt;\n",
       "&lt;/html&gt;\" style=\"position:absolute;width:100%;height:100%;left:0;top:0;border:none !important;\" allowfullscreen webkitallowfullscreen mozallowfullscreen></iframe></div></div>"
      ],
      "text/plain": [
       "<folium.folium.Map at 0x24bb84ebf40>"
      ]
     },
     "execution_count": 29,
     "metadata": {},
     "output_type": "execute_result"
    }
   ],
   "source": [
    "motorway[motorway.name == \"Vidyasagar Setu\"].explore()"
   ]
  },
  {
   "cell_type": "code",
   "execution_count": 43,
   "id": "2c73a44b",
   "metadata": {},
   "outputs": [
    {
     "data": {
      "text/plain": [
       "0.011709298052936929"
      ]
     },
     "execution_count": 43,
     "metadata": {},
     "output_type": "execute_result"
    }
   ],
   "source": [
    "motorway[motorway.name == \"Vidyasagar Setu\"].iloc[0][\"geometry\"].length"
   ]
  },
  {
   "cell_type": "code",
   "execution_count": 97,
   "id": "2b5b3a0d",
   "metadata": {},
   "outputs": [],
   "source": [
    "a = motorway[motorway.name == \"Vidyasagar Setu\"].iloc[0][\"geometry\"]\n",
    "b = motorway[motorway.name == \"Vidyasagar Setu\"].iloc[1][\"geometry\"]\n",
    "d =  Polygon([(88.33195 ,22.55086), (88.33229 ,22.551),(88.33229 ,22.56),(88.33229 ,22.57)])"
   ]
  },
  {
   "cell_type": "code",
   "execution_count": 98,
   "id": "55d07581",
   "metadata": {},
   "outputs": [],
   "source": [
    "import shapely"
   ]
  },
  {
   "cell_type": "code",
   "execution_count": 99,
   "id": "4a2f5cad",
   "metadata": {},
   "outputs": [
    {
     "data": {
      "image/svg+xml": "<svg xmlns=\"http://www.w3.org/2000/svg\" xmlns:xlink=\"http://www.w3.org/1999/xlink\" width=\"100.0\" height=\"100.0\" viewBox=\"88.324802112 22.550536312 0.007975775999994994 0.00882867600000381\" preserveAspectRatio=\"xMinYMin meet\"><g transform=\"matrix(1,0,0,-1,0,45.109901300000004)\"><polyline fill=\"none\" stroke=\"#66cc99\" stroke-width=\"0.0001765735200000762\" points=\"88.3319469,22.5508633 88.3322859,22.5515228 88.3323883,22.5518062 88.3324469,22.5521272 88.3324509,22.5523702 88.3324254,22.5525929 88.3323871,22.5528338 88.332301,22.5531003 88.332081,22.5534666 88.3318243,22.5537991 88.3299256,22.5553276 88.3251291,22.559038\" opacity=\"0.8\" /></g></svg>",
      "text/plain": [
       "<LINESTRING (88.332 22.551, 88.332 22.552, 88.332 22.552, 88.332 22.552, 88....>"
      ]
     },
     "execution_count": 99,
     "metadata": {},
     "output_type": "execute_result"
    }
   ],
   "source": [
    "a"
   ]
  },
  {
   "cell_type": "code",
   "execution_count": 100,
   "id": "d10d9ff7",
   "metadata": {},
   "outputs": [
    {
     "data": {
      "image/svg+xml": "<svg xmlns=\"http://www.w3.org/2000/svg\" xmlns:xlink=\"http://www.w3.org/1999/xlink\" width=\"100.0\" height=\"100.0\" viewBox=\"88.33118440000001 22.5500944 0.0018711999999823092 0.020671200000002443\" preserveAspectRatio=\"xMinYMin meet\"><g transform=\"matrix(1,0,0,-1,0,45.12086)\"><path fill-rule=\"evenodd\" fill=\"#66cc99\" stroke=\"#555555\" stroke-width=\"0.00041342400000004886\" opacity=\"0.6\" d=\"M 88.33195,22.55086 L 88.33229,22.551 L 88.33229,22.56 L 88.33229,22.57 L 88.33195,22.55086 z\" /></g></svg>",
      "text/plain": [
       "<POLYGON ((88.332 22.551, 88.332 22.551, 88.332 22.56, 88.332 22.57, 88.332 ...>"
      ]
     },
     "execution_count": 100,
     "metadata": {},
     "output_type": "execute_result"
    }
   ],
   "source": [
    "d"
   ]
  },
  {
   "cell_type": "code",
   "execution_count": 108,
   "id": "6555fc6a",
   "metadata": {},
   "outputs": [],
   "source": [
    "c = shapely.crosses(a,d)"
   ]
  },
  {
   "cell_type": "code",
   "execution_count": 109,
   "id": "e6c598e0",
   "metadata": {},
   "outputs": [
    {
     "data": {
      "text/plain": [
       "True"
      ]
     },
     "execution_count": 109,
     "metadata": {},
     "output_type": "execute_result"
    }
   ],
   "source": [
    "c"
   ]
  },
  {
   "cell_type": "code",
   "execution_count": 110,
   "id": "9191c990",
   "metadata": {},
   "outputs": [
    {
     "data": {
      "text/plain": [
       "True"
      ]
     },
     "execution_count": 110,
     "metadata": {},
     "output_type": "execute_result"
    }
   ],
   "source": [
    "c"
   ]
  },
  {
   "cell_type": "code",
   "execution_count": null,
   "id": "a94d6da7",
   "metadata": {},
   "outputs": [],
   "source": []
  },
  {
   "cell_type": "code",
   "execution_count": null,
   "id": "3f9ba605",
   "metadata": {},
   "outputs": [],
   "source": []
  }
 ],
 "metadata": {
  "kernelspec": {
   "display_name": "base",
   "language": "python",
   "name": "python3"
  },
  "language_info": {
   "codemirror_mode": {
    "name": "ipython",
    "version": 3
   },
   "file_extension": ".py",
   "mimetype": "text/x-python",
   "name": "python",
   "nbconvert_exporter": "python",
   "pygments_lexer": "ipython3",
   "version": "3.9.13"
  },
  "vscode": {
   "interpreter": {
    "hash": "ce7721647274386fe13b7f2220e2cccc8d7a3ea400a265b5456a0f9751e59dcb"
   }
  }
 },
 "nbformat": 4,
 "nbformat_minor": 5
}
