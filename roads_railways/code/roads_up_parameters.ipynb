{
 "cells": [
  {
   "cell_type": "code",
   "execution_count": 1,
   "id": "18942a72",
   "metadata": {
    "execution": {
     "iopub.execute_input": "2023-03-15T12:21:43.354643Z",
     "iopub.status.busy": "2023-03-15T12:21:43.353677Z",
     "iopub.status.idle": "2023-03-15T12:21:43.371184Z",
     "shell.execute_reply": "2023-03-15T12:21:43.371184Z"
    },
    "papermill": {
     "duration": 0.032785,
     "end_time": "2023-03-15T12:21:43.375407",
     "exception": false,
     "start_time": "2023-03-15T12:21:43.342622",
     "status": "completed"
    },
    "tags": [
     "parameters"
    ]
   },
   "outputs": [],
   "source": [
    "SHAPE_FILE_ROADS = '../input/roads_railways/gis_osm_roads_free_1.shp'\n",
    "FILE2 = '../input/village_census/india-village-census-2001-AS.shp'\n",
    "FILE_OUTPUT = 'roads_assam_01.shp'"
   ]
  },
  {
   "cell_type": "code",
   "execution_count": 2,
   "id": "71ba4dea",
   "metadata": {
    "execution": {
     "iopub.execute_input": "2023-03-15T12:21:43.389775Z",
     "iopub.status.busy": "2023-03-15T12:21:43.389775Z",
     "iopub.status.idle": "2023-03-15T12:21:43.404915Z",
     "shell.execute_reply": "2023-03-15T12:21:43.402382Z"
    },
    "papermill": {
     "duration": 0.025211,
     "end_time": "2023-03-15T12:21:43.407927",
     "exception": false,
     "start_time": "2023-03-15T12:21:43.382716",
     "status": "completed"
    },
    "tags": [
     "injected-parameters"
    ]
   },
   "outputs": [],
   "source": [
    "# Parameters\n",
    "SHAPE_FILE_ROADS = \"../input/roads_railways/gis_osm_roads_free_1.shp\"\n",
    "FILE2 = \"../input/village_census/india-village-census-2001-UP.shp\"\n",
    "FILE_OUTPUT = \"roads_up_02.shp\"\n"
   ]
  },
  {
   "cell_type": "code",
   "execution_count": 3,
   "id": "01f4add3",
   "metadata": {
    "execution": {
     "iopub.execute_input": "2023-03-15T12:21:43.423040Z",
     "iopub.status.busy": "2023-03-15T12:21:43.423040Z",
     "iopub.status.idle": "2023-03-15T12:21:44.619165Z",
     "shell.execute_reply": "2023-03-15T12:21:44.619165Z"
    },
    "papermill": {
     "duration": 1.207146,
     "end_time": "2023-03-15T12:21:44.622125",
     "exception": false,
     "start_time": "2023-03-15T12:21:43.414979",
     "status": "completed"
    },
    "tags": []
   },
   "outputs": [],
   "source": [
    "import geopandas as gpd"
   ]
  },
  {
   "cell_type": "code",
   "execution_count": 4,
   "id": "61692b07",
   "metadata": {
    "execution": {
     "iopub.execute_input": "2023-03-15T12:21:44.639021Z",
     "iopub.status.busy": "2023-03-15T12:21:44.639021Z",
     "iopub.status.idle": "2023-03-15T12:25:44.535026Z",
     "shell.execute_reply": "2023-03-15T12:25:44.532543Z"
    },
    "papermill": {
     "duration": 239.94267,
     "end_time": "2023-03-15T12:25:44.572745",
     "exception": false,
     "start_time": "2023-03-15T12:21:44.630075",
     "status": "completed"
    },
    "tags": []
   },
   "outputs": [
    {
     "name": "stdout",
     "output_type": "stream",
     "text": [
      "Wall time: 3min 59s\n"
     ]
    }
   ],
   "source": [
    "%%time\n",
    "plot_locations = gpd.read_file(SHAPE_FILE_ROADS)"
   ]
  },
  {
   "cell_type": "code",
   "execution_count": 5,
   "id": "92f65403",
   "metadata": {
    "execution": {
     "iopub.execute_input": "2023-03-15T12:25:44.606405Z",
     "iopub.status.busy": "2023-03-15T12:25:44.604220Z",
     "iopub.status.idle": "2023-03-15T12:25:44.671861Z",
     "shell.execute_reply": "2023-03-15T12:25:44.668852Z"
    },
    "papermill": {
     "duration": 0.087735,
     "end_time": "2023-03-15T12:25:44.675958",
     "exception": false,
     "start_time": "2023-03-15T12:25:44.588223",
     "status": "completed"
    },
    "tags": []
   },
   "outputs": [
    {
     "data": {
      "text/plain": [
       "2.111685"
      ]
     },
     "execution_count": 5,
     "metadata": {},
     "output_type": "execute_result"
    }
   ],
   "source": [
    "len(plot_locations) /1e6"
   ]
  },
  {
   "cell_type": "code",
   "execution_count": 6,
   "id": "8bf643f8",
   "metadata": {
    "execution": {
     "iopub.execute_input": "2023-03-15T12:25:44.697452Z",
     "iopub.status.busy": "2023-03-15T12:25:44.696351Z",
     "iopub.status.idle": "2023-03-15T12:25:44.809603Z",
     "shell.execute_reply": "2023-03-15T12:25:44.808566Z"
    },
    "papermill": {
     "duration": 0.127234,
     "end_time": "2023-03-15T12:25:44.813586",
     "exception": false,
     "start_time": "2023-03-15T12:25:44.686352",
     "status": "completed"
    },
    "tags": []
   },
   "outputs": [
    {
     "data": {
      "text/html": [
       "<div>\n",
       "<style scoped>\n",
       "    .dataframe tbody tr th:only-of-type {\n",
       "        vertical-align: middle;\n",
       "    }\n",
       "\n",
       "    .dataframe tbody tr th {\n",
       "        vertical-align: top;\n",
       "    }\n",
       "\n",
       "    .dataframe thead th {\n",
       "        text-align: right;\n",
       "    }\n",
       "</style>\n",
       "<table border=\"1\" class=\"dataframe\">\n",
       "  <thead>\n",
       "    <tr style=\"text-align: right;\">\n",
       "      <th></th>\n",
       "      <th>osm_id</th>\n",
       "      <th>code</th>\n",
       "      <th>fclass</th>\n",
       "      <th>name</th>\n",
       "      <th>ref</th>\n",
       "      <th>oneway</th>\n",
       "      <th>maxspeed</th>\n",
       "      <th>layer</th>\n",
       "      <th>bridge</th>\n",
       "      <th>tunnel</th>\n",
       "      <th>geometry</th>\n",
       "    </tr>\n",
       "  </thead>\n",
       "  <tbody>\n",
       "    <tr>\n",
       "      <th>0</th>\n",
       "      <td>3187224</td>\n",
       "      <td>5115</td>\n",
       "      <td>tertiary</td>\n",
       "      <td>Sha Road</td>\n",
       "      <td>None</td>\n",
       "      <td>B</td>\n",
       "      <td>0</td>\n",
       "      <td>0</td>\n",
       "      <td>F</td>\n",
       "      <td>F</td>\n",
       "      <td>LINESTRING (76.32194 10.30471, 76.32174 10.304...</td>\n",
       "    </tr>\n",
       "    <tr>\n",
       "      <th>1</th>\n",
       "      <td>3191425</td>\n",
       "      <td>5115</td>\n",
       "      <td>tertiary</td>\n",
       "      <td>U2</td>\n",
       "      <td>None</td>\n",
       "      <td>B</td>\n",
       "      <td>0</td>\n",
       "      <td>0</td>\n",
       "      <td>F</td>\n",
       "      <td>F</td>\n",
       "      <td>LINESTRING (76.33476 10.30725, 76.33477 10.306...</td>\n",
       "    </tr>\n",
       "    <tr>\n",
       "      <th>2</th>\n",
       "      <td>3191428</td>\n",
       "      <td>5115</td>\n",
       "      <td>tertiary</td>\n",
       "      <td>Transport Bustand Road</td>\n",
       "      <td>None</td>\n",
       "      <td>B</td>\n",
       "      <td>0</td>\n",
       "      <td>0</td>\n",
       "      <td>F</td>\n",
       "      <td>F</td>\n",
       "      <td>LINESTRING (76.33261 10.29997, 76.33282 10.300...</td>\n",
       "    </tr>\n",
       "    <tr>\n",
       "      <th>3</th>\n",
       "      <td>3191437</td>\n",
       "      <td>5115</td>\n",
       "      <td>tertiary</td>\n",
       "      <td>Housing Board</td>\n",
       "      <td>None</td>\n",
       "      <td>B</td>\n",
       "      <td>0</td>\n",
       "      <td>0</td>\n",
       "      <td>F</td>\n",
       "      <td>F</td>\n",
       "      <td>LINESTRING (76.33261 10.29997, 76.33327 10.299...</td>\n",
       "    </tr>\n",
       "    <tr>\n",
       "      <th>4</th>\n",
       "      <td>3194810</td>\n",
       "      <td>5115</td>\n",
       "      <td>tertiary</td>\n",
       "      <td>Market Road</td>\n",
       "      <td>None</td>\n",
       "      <td>B</td>\n",
       "      <td>0</td>\n",
       "      <td>0</td>\n",
       "      <td>F</td>\n",
       "      <td>F</td>\n",
       "      <td>LINESTRING (76.33898 10.30246, 76.33906 10.305...</td>\n",
       "    </tr>\n",
       "  </tbody>\n",
       "</table>\n",
       "</div>"
      ],
      "text/plain": [
       "    osm_id  code    fclass                    name   ref oneway  maxspeed  \\\n",
       "0  3187224  5115  tertiary                Sha Road  None      B         0   \n",
       "1  3191425  5115  tertiary                      U2  None      B         0   \n",
       "2  3191428  5115  tertiary  Transport Bustand Road  None      B         0   \n",
       "3  3191437  5115  tertiary           Housing Board  None      B         0   \n",
       "4  3194810  5115  tertiary             Market Road  None      B         0   \n",
       "\n",
       "   layer bridge tunnel                                           geometry  \n",
       "0      0      F      F  LINESTRING (76.32194 10.30471, 76.32174 10.304...  \n",
       "1      0      F      F  LINESTRING (76.33476 10.30725, 76.33477 10.306...  \n",
       "2      0      F      F  LINESTRING (76.33261 10.29997, 76.33282 10.300...  \n",
       "3      0      F      F  LINESTRING (76.33261 10.29997, 76.33327 10.299...  \n",
       "4      0      F      F  LINESTRING (76.33898 10.30246, 76.33906 10.305...  "
      ]
     },
     "execution_count": 6,
     "metadata": {},
     "output_type": "execute_result"
    }
   ],
   "source": [
    "plot_locations.head()"
   ]
  },
  {
   "cell_type": "code",
   "execution_count": 7,
   "id": "8991d882",
   "metadata": {
    "execution": {
     "iopub.execute_input": "2023-03-15T12:25:44.834180Z",
     "iopub.status.busy": "2023-03-15T12:25:44.834180Z",
     "iopub.status.idle": "2023-03-15T12:27:13.646680Z",
     "shell.execute_reply": "2023-03-15T12:27:13.643671Z"
    },
    "papermill": {
     "duration": 88.830027,
     "end_time": "2023-03-15T12:27:13.653695",
     "exception": false,
     "start_time": "2023-03-15T12:25:44.823668",
     "status": "completed"
    },
    "tags": []
   },
   "outputs": [],
   "source": [
    "state = gpd.read_file(FILE2)"
   ]
  },
  {
   "cell_type": "code",
   "execution_count": 8,
   "id": "34b0bfc1",
   "metadata": {
    "execution": {
     "iopub.execute_input": "2023-03-15T12:27:13.680215Z",
     "iopub.status.busy": "2023-03-15T12:27:13.679185Z",
     "iopub.status.idle": "2023-03-15T12:27:13.708692Z",
     "shell.execute_reply": "2023-03-15T12:27:13.705671Z"
    },
    "papermill": {
     "duration": 0.046299,
     "end_time": "2023-03-15T12:27:13.712782",
     "exception": false,
     "start_time": "2023-03-15T12:27:13.666483",
     "status": "completed"
    },
    "tags": []
   },
   "outputs": [
    {
     "data": {
      "text/plain": [
       "110751"
      ]
     },
     "execution_count": 8,
     "metadata": {},
     "output_type": "execute_result"
    }
   ],
   "source": [
    "len(state)"
   ]
  },
  {
   "cell_type": "code",
   "execution_count": 9,
   "id": "cfe181d3",
   "metadata": {
    "execution": {
     "iopub.execute_input": "2023-03-15T12:27:13.735851Z",
     "iopub.status.busy": "2023-03-15T12:27:13.735851Z",
     "iopub.status.idle": "2023-03-15T12:27:13.878014Z",
     "shell.execute_reply": "2023-03-15T12:27:13.876141Z"
    },
    "papermill": {
     "duration": 0.157136,
     "end_time": "2023-03-15T12:27:13.882021",
     "exception": false,
     "start_time": "2023-03-15T12:27:13.724885",
     "status": "completed"
    },
    "tags": []
   },
   "outputs": [
    {
     "data": {
      "text/html": [
       "<div>\n",
       "<style scoped>\n",
       "    .dataframe tbody tr th:only-of-type {\n",
       "        vertical-align: middle;\n",
       "    }\n",
       "\n",
       "    .dataframe tbody tr th {\n",
       "        vertical-align: top;\n",
       "    }\n",
       "\n",
       "    .dataframe thead th {\n",
       "        text-align: right;\n",
       "    }\n",
       "</style>\n",
       "<table border=\"1\" class=\"dataframe\">\n",
       "  <thead>\n",
       "    <tr style=\"text-align: right;\">\n",
       "      <th></th>\n",
       "      <th>SID</th>\n",
       "      <th>DID</th>\n",
       "      <th>TID</th>\n",
       "      <th>VILL_CODE</th>\n",
       "      <th>C_CODE01</th>\n",
       "      <th>NAME</th>\n",
       "      <th>UID</th>\n",
       "      <th>CENSUS_COD</th>\n",
       "      <th>STATE</th>\n",
       "      <th>DISTRICT</th>\n",
       "      <th>...</th>\n",
       "      <th>TANK_IRR</th>\n",
       "      <th>RIVER_IRR</th>\n",
       "      <th>LAKE_IRR</th>\n",
       "      <th>W_FALL</th>\n",
       "      <th>OTH_IRR</th>\n",
       "      <th>TOT_IRR</th>\n",
       "      <th>UN_IRR</th>\n",
       "      <th>CULT_WASTE</th>\n",
       "      <th>AREA_NA_CU</th>\n",
       "      <th>geometry</th>\n",
       "    </tr>\n",
       "  </thead>\n",
       "  <tbody>\n",
       "    <tr>\n",
       "      <th>0</th>\n",
       "      <td>09</td>\n",
       "      <td>15</td>\n",
       "      <td>0001</td>\n",
       "      <td>01568500</td>\n",
       "      <td>0915000101568500</td>\n",
       "      <td>TEHU</td>\n",
       "      <td>102563</td>\n",
       "      <td>9.150000e+14</td>\n",
       "      <td>9</td>\n",
       "      <td>15</td>\n",
       "      <td>...</td>\n",
       "      <td>0.0</td>\n",
       "      <td>0.0</td>\n",
       "      <td>0.0</td>\n",
       "      <td>0.0</td>\n",
       "      <td>0.0</td>\n",
       "      <td>790.0</td>\n",
       "      <td>11.0</td>\n",
       "      <td>86.0</td>\n",
       "      <td>2.0</td>\n",
       "      <td>POLYGON ((224576.990 3033941.739, 224877.070 3...</td>\n",
       "    </tr>\n",
       "    <tr>\n",
       "      <th>1</th>\n",
       "      <td>09</td>\n",
       "      <td>15</td>\n",
       "      <td>0001</td>\n",
       "      <td>01568300</td>\n",
       "      <td>0915000101568300</td>\n",
       "      <td>AMANABAD</td>\n",
       "      <td>102564</td>\n",
       "      <td>9.150000e+14</td>\n",
       "      <td>9</td>\n",
       "      <td>15</td>\n",
       "      <td>...</td>\n",
       "      <td>0.0</td>\n",
       "      <td>0.0</td>\n",
       "      <td>0.0</td>\n",
       "      <td>0.0</td>\n",
       "      <td>0.0</td>\n",
       "      <td>301.0</td>\n",
       "      <td>0.0</td>\n",
       "      <td>30.0</td>\n",
       "      <td>1.0</td>\n",
       "      <td>POLYGON ((223446.302 3034104.772, 223882.771 3...</td>\n",
       "    </tr>\n",
       "    <tr>\n",
       "      <th>2</th>\n",
       "      <td>09</td>\n",
       "      <td>15</td>\n",
       "      <td>0001</td>\n",
       "      <td>01568200</td>\n",
       "      <td>0915000101568200</td>\n",
       "      <td>CHAMRAULA</td>\n",
       "      <td>102565</td>\n",
       "      <td>9.150000e+14</td>\n",
       "      <td>9</td>\n",
       "      <td>15</td>\n",
       "      <td>...</td>\n",
       "      <td>0.0</td>\n",
       "      <td>0.0</td>\n",
       "      <td>0.0</td>\n",
       "      <td>0.0</td>\n",
       "      <td>0.0</td>\n",
       "      <td>98.0</td>\n",
       "      <td>0.0</td>\n",
       "      <td>10.0</td>\n",
       "      <td>1.0</td>\n",
       "      <td>POLYGON ((223037.910 3034163.375, 223169.586 3...</td>\n",
       "    </tr>\n",
       "    <tr>\n",
       "      <th>3</th>\n",
       "      <td>09</td>\n",
       "      <td>15</td>\n",
       "      <td>0001</td>\n",
       "      <td>01568000</td>\n",
       "      <td>0915000101568000</td>\n",
       "      <td>JAMPUR</td>\n",
       "      <td>102566</td>\n",
       "      <td>9.150000e+14</td>\n",
       "      <td>9</td>\n",
       "      <td>15</td>\n",
       "      <td>...</td>\n",
       "      <td>0.0</td>\n",
       "      <td>0.0</td>\n",
       "      <td>0.0</td>\n",
       "      <td>0.0</td>\n",
       "      <td>0.0</td>\n",
       "      <td>60.0</td>\n",
       "      <td>0.0</td>\n",
       "      <td>0.0</td>\n",
       "      <td>12.0</td>\n",
       "      <td>POLYGON ((221196.261 3034122.168, 220994.187 3...</td>\n",
       "    </tr>\n",
       "    <tr>\n",
       "      <th>4</th>\n",
       "      <td>09</td>\n",
       "      <td>15</td>\n",
       "      <td>0001</td>\n",
       "      <td>01568900</td>\n",
       "      <td>0915000101568900</td>\n",
       "      <td>SAIFUDDINPUR</td>\n",
       "      <td>102567</td>\n",
       "      <td>9.150000e+14</td>\n",
       "      <td>9</td>\n",
       "      <td>15</td>\n",
       "      <td>...</td>\n",
       "      <td>0.0</td>\n",
       "      <td>0.0</td>\n",
       "      <td>0.0</td>\n",
       "      <td>0.0</td>\n",
       "      <td>0.0</td>\n",
       "      <td>131.0</td>\n",
       "      <td>6.0</td>\n",
       "      <td>14.0</td>\n",
       "      <td>1.0</td>\n",
       "      <td>POLYGON ((230100.054 3032523.011, 230106.735 3...</td>\n",
       "    </tr>\n",
       "  </tbody>\n",
       "</table>\n",
       "<p>5 rows × 214 columns</p>\n",
       "</div>"
      ],
      "text/plain": [
       "  SID DID   TID VILL_CODE          C_CODE01          NAME     UID  \\\n",
       "0  09  15  0001  01568500  0915000101568500          TEHU  102563   \n",
       "1  09  15  0001  01568300  0915000101568300      AMANABAD  102564   \n",
       "2  09  15  0001  01568200  0915000101568200     CHAMRAULA  102565   \n",
       "3  09  15  0001  01568000  0915000101568000        JAMPUR  102566   \n",
       "4  09  15  0001  01568900  0915000101568900  SAIFUDDINPUR  102567   \n",
       "\n",
       "     CENSUS_COD  STATE  DISTRICT  ...  TANK_IRR  RIVER_IRR  LAKE_IRR  W_FALL  \\\n",
       "0  9.150000e+14      9        15  ...       0.0        0.0       0.0     0.0   \n",
       "1  9.150000e+14      9        15  ...       0.0        0.0       0.0     0.0   \n",
       "2  9.150000e+14      9        15  ...       0.0        0.0       0.0     0.0   \n",
       "3  9.150000e+14      9        15  ...       0.0        0.0       0.0     0.0   \n",
       "4  9.150000e+14      9        15  ...       0.0        0.0       0.0     0.0   \n",
       "\n",
       "  OTH_IRR TOT_IRR UN_IRR CULT_WASTE  AREA_NA_CU  \\\n",
       "0     0.0   790.0   11.0       86.0         2.0   \n",
       "1     0.0   301.0    0.0       30.0         1.0   \n",
       "2     0.0    98.0    0.0       10.0         1.0   \n",
       "3     0.0    60.0    0.0        0.0        12.0   \n",
       "4     0.0   131.0    6.0       14.0         1.0   \n",
       "\n",
       "                                            geometry  \n",
       "0  POLYGON ((224576.990 3033941.739, 224877.070 3...  \n",
       "1  POLYGON ((223446.302 3034104.772, 223882.771 3...  \n",
       "2  POLYGON ((223037.910 3034163.375, 223169.586 3...  \n",
       "3  POLYGON ((221196.261 3034122.168, 220994.187 3...  \n",
       "4  POLYGON ((230100.054 3032523.011, 230106.735 3...  \n",
       "\n",
       "[5 rows x 214 columns]"
      ]
     },
     "execution_count": 9,
     "metadata": {},
     "output_type": "execute_result"
    }
   ],
   "source": [
    "state.head()"
   ]
  },
  {
   "cell_type": "code",
   "execution_count": 10,
   "id": "e3bf353c",
   "metadata": {
    "execution": {
     "iopub.execute_input": "2023-03-15T12:27:13.906044Z",
     "iopub.status.busy": "2023-03-15T12:27:13.905045Z",
     "iopub.status.idle": "2023-03-15T12:27:14.491924Z",
     "shell.execute_reply": "2023-03-15T12:27:14.489897Z"
    },
    "papermill": {
     "duration": 0.601125,
     "end_time": "2023-03-15T12:27:14.495929",
     "exception": false,
     "start_time": "2023-03-15T12:27:13.894804",
     "status": "completed"
    },
    "tags": []
   },
   "outputs": [],
   "source": [
    "motorway = plot_locations[plot_locations.fclass == 'motorway']"
   ]
  },
  {
   "cell_type": "code",
   "execution_count": 11,
   "id": "8da9617b",
   "metadata": {
    "execution": {
     "iopub.execute_input": "2023-03-15T12:27:14.519377Z",
     "iopub.status.busy": "2023-03-15T12:27:14.519377Z",
     "iopub.status.idle": "2023-03-15T12:27:14.538345Z",
     "shell.execute_reply": "2023-03-15T12:27:14.536370Z"
    },
    "papermill": {
     "duration": 0.035486,
     "end_time": "2023-03-15T12:27:14.541428",
     "exception": false,
     "start_time": "2023-03-15T12:27:14.505942",
     "status": "completed"
    },
    "tags": []
   },
   "outputs": [
    {
     "data": {
      "text/plain": [
       "2544"
      ]
     },
     "execution_count": 11,
     "metadata": {},
     "output_type": "execute_result"
    }
   ],
   "source": [
    "len(motorway)"
   ]
  },
  {
   "cell_type": "code",
   "execution_count": 12,
   "id": "cec577fb",
   "metadata": {
    "execution": {
     "iopub.execute_input": "2023-03-15T12:27:14.564951Z",
     "iopub.status.busy": "2023-03-15T12:27:14.563920Z",
     "iopub.status.idle": "2023-03-15T12:27:21.394803Z",
     "shell.execute_reply": "2023-03-15T12:27:21.392770Z"
    },
    "papermill": {
     "duration": 6.845489,
     "end_time": "2023-03-15T12:27:21.397908",
     "exception": false,
     "start_time": "2023-03-15T12:27:14.552419",
     "status": "completed"
    },
    "tags": []
   },
   "outputs": [],
   "source": [
    "x = plot_locations.to_crs(epsg='4326')\n",
    "y = state.to_crs(epsg='4326')"
   ]
  },
  {
   "cell_type": "code",
   "execution_count": 13,
   "id": "56f25efd",
   "metadata": {
    "execution": {
     "iopub.execute_input": "2023-03-15T12:27:21.418906Z",
     "iopub.status.busy": "2023-03-15T12:27:21.418906Z",
     "iopub.status.idle": "2023-03-15T12:28:31.637682Z",
     "shell.execute_reply": "2023-03-15T12:28:31.620681Z"
    },
    "papermill": {
     "duration": 70.25431,
     "end_time": "2023-03-15T12:28:31.662029",
     "exception": false,
     "start_time": "2023-03-15T12:27:21.407719",
     "status": "completed"
    },
    "tags": []
   },
   "outputs": [],
   "source": [
    "mx = y.overlay(x,how=\"intersection\",keep_geom_type=False)"
   ]
  },
  {
   "cell_type": "code",
   "execution_count": 14,
   "id": "0a4f7823",
   "metadata": {
    "execution": {
     "iopub.execute_input": "2023-03-15T12:28:31.722279Z",
     "iopub.status.busy": "2023-03-15T12:28:31.717662Z",
     "iopub.status.idle": "2023-03-15T13:34:58.760220Z",
     "shell.execute_reply": "2023-03-15T13:34:58.753221Z"
    },
    "papermill": {
     "duration": 3987.171026,
     "end_time": "2023-03-15T13:34:58.872701",
     "exception": false,
     "start_time": "2023-03-15T12:28:31.701675",
     "status": "completed"
    },
    "tags": []
   },
   "outputs": [],
   "source": [
    "mx.to_file(FILE_OUTPUT)"
   ]
  },
  {
   "cell_type": "code",
   "execution_count": null,
   "id": "3ecf2b4a",
   "metadata": {
    "papermill": {
     "duration": 0.02102,
     "end_time": "2023-03-15T13:34:59.000260",
     "exception": false,
     "start_time": "2023-03-15T13:34:58.979240",
     "status": "completed"
    },
    "tags": []
   },
   "outputs": [],
   "source": []
  }
 ],
 "metadata": {
  "celltoolbar": "Tags",
  "kernelspec": {
   "display_name": "Python 3 (ipykernel)",
   "language": "python",
   "name": "python3"
  },
  "language_info": {
   "codemirror_mode": {
    "name": "ipython",
    "version": 3
   },
   "file_extension": ".py",
   "mimetype": "text/x-python",
   "name": "python",
   "nbconvert_exporter": "python",
   "pygments_lexer": "ipython3",
   "version": "3.9.13"
  },
  "papermill": {
   "default_parameters": {},
   "duration": 4401.519701,
   "end_time": "2023-03-15T13:35:02.504062",
   "environment_variables": {},
   "exception": null,
   "input_path": "roads_overlay_parameters.ipynb",
   "output_path": "roads_up_parameters.ipynb",
   "parameters": {
    "FILE2": "../input/village_census/india-village-census-2001-UP.shp",
    "FILE_OUTPUT": "roads_up_02.shp",
    "SHAPE_FILE_ROADS": "../input/roads_railways/gis_osm_roads_free_1.shp"
   },
   "start_time": "2023-03-15T12:21:40.984361",
   "version": "2.4.0"
  }
 },
 "nbformat": 4,
 "nbformat_minor": 5
}