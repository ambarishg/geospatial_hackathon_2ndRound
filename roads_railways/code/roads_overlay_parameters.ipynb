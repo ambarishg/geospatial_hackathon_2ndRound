{
 "cells": [
  {
   "cell_type": "code",
   "execution_count": null,
   "id": "18942a72",
   "metadata": {
    "tags": [
     "parameters"
    ]
   },
   "outputs": [],
   "source": [
    "SHAPE_FILE_ROADS = '../input/roads_railways/gis_osm_roads_free_1.shp'\n",
    "FILE2 = '../input/village_census/india-village-census-2001-AS.shp'\n",
    "FILE_OUTPUT = 'roads_assam_01.shp'"
   ]
  },
  {
   "cell_type": "code",
   "execution_count": null,
   "id": "01f4add3",
   "metadata": {},
   "outputs": [],
   "source": [
    "import geopandas as gpd"
   ]
  },
  {
   "cell_type": "code",
   "execution_count": null,
   "id": "61692b07",
   "metadata": {},
   "outputs": [],
   "source": [
    "%%time\n",
    "plot_locations = gpd.read_file(SHAPE_FILE_ROADS)"
   ]
  },
  {
   "cell_type": "code",
   "execution_count": null,
   "id": "92f65403",
   "metadata": {},
   "outputs": [],
   "source": [
    "len(plot_locations) /1e6"
   ]
  },
  {
   "cell_type": "code",
   "execution_count": null,
   "id": "8bf643f8",
   "metadata": {},
   "outputs": [],
   "source": [
    "plot_locations.head()"
   ]
  },
  {
   "cell_type": "code",
   "execution_count": null,
   "id": "8991d882",
   "metadata": {},
   "outputs": [],
   "source": [
    "state = gpd.read_file(FILE2)"
   ]
  },
  {
   "cell_type": "code",
   "execution_count": null,
   "id": "34b0bfc1",
   "metadata": {},
   "outputs": [],
   "source": [
    "len(state)"
   ]
  },
  {
   "cell_type": "code",
   "execution_count": null,
   "id": "cfe181d3",
   "metadata": {},
   "outputs": [],
   "source": [
    "state.head()"
   ]
  },
  {
   "cell_type": "code",
   "execution_count": null,
   "id": "e3bf353c",
   "metadata": {},
   "outputs": [],
   "source": [
    "motorway = plot_locations[plot_locations.fclass == 'motorway']"
   ]
  },
  {
   "cell_type": "code",
   "execution_count": null,
   "id": "8da9617b",
   "metadata": {},
   "outputs": [],
   "source": [
    "len(motorway)"
   ]
  },
  {
   "cell_type": "code",
   "execution_count": null,
   "id": "cec577fb",
   "metadata": {},
   "outputs": [],
   "source": [
    "x = plot_locations.to_crs(epsg='4326')\n",
    "y = state.to_crs(epsg='4326')"
   ]
  },
  {
   "cell_type": "code",
   "execution_count": null,
   "id": "56f25efd",
   "metadata": {},
   "outputs": [],
   "source": [
    "mx = y.overlay(x,how=\"intersection\",keep_geom_type=False)"
   ]
  },
  {
   "cell_type": "code",
   "execution_count": null,
   "id": "0a4f7823",
   "metadata": {},
   "outputs": [],
   "source": [
    "mx.to_file(FILE_OUTPUT)"
   ]
  },
  {
   "cell_type": "code",
   "execution_count": null,
   "id": "3ecf2b4a",
   "metadata": {},
   "outputs": [],
   "source": []
  }
 ],
 "metadata": {
  "celltoolbar": "Tags",
  "kernelspec": {
   "display_name": "Python 3 (ipykernel)",
   "language": "python",
   "name": "python3"
  },
  "language_info": {
   "codemirror_mode": {
    "name": "ipython",
    "version": 3
   },
   "file_extension": ".py",
   "mimetype": "text/x-python",
   "name": "python",
   "nbconvert_exporter": "python",
   "pygments_lexer": "ipython3",
   "version": "3.9.13"
  }
 },
 "nbformat": 4,
 "nbformat_minor": 5
}
