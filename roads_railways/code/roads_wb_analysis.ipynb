{
 "cells": [
  {
   "cell_type": "code",
   "execution_count": 1,
   "id": "926a7f2e",
   "metadata": {
    "execution": {
     "iopub.execute_input": "2023-03-15T14:17:29.593389Z",
     "iopub.status.busy": "2023-03-15T14:17:29.592391Z",
     "iopub.status.idle": "2023-03-15T14:17:29.615665Z",
     "shell.execute_reply": "2023-03-15T14:17:29.613886Z"
    },
    "papermill": {
     "duration": 0.035176,
     "end_time": "2023-03-15T14:17:29.618775",
     "exception": false,
     "start_time": "2023-03-15T14:17:29.583599",
     "status": "completed"
    },
    "tags": [
     "parameters"
    ]
   },
   "outputs": [],
   "source": [
    "FILE2 = 'roads_up_02.shp'"
   ]
  },
  {
   "cell_type": "code",
   "execution_count": 2,
   "id": "4bc58e9c",
   "metadata": {
    "execution": {
     "iopub.execute_input": "2023-03-15T14:17:29.639883Z",
     "iopub.status.busy": "2023-03-15T14:17:29.638883Z",
     "iopub.status.idle": "2023-03-15T14:17:29.645907Z",
     "shell.execute_reply": "2023-03-15T14:17:29.644885Z"
    },
    "papermill": {
     "duration": 0.021188,
     "end_time": "2023-03-15T14:17:29.649887",
     "exception": false,
     "start_time": "2023-03-15T14:17:29.628699",
     "status": "completed"
    },
    "tags": [
     "injected-parameters"
    ]
   },
   "outputs": [],
   "source": [
    "# Parameters\n",
    "FILE2 = \"roads_wb.shp\"\n"
   ]
  },
  {
   "cell_type": "code",
   "execution_count": 3,
   "id": "3a2cbc23",
   "metadata": {
    "execution": {
     "iopub.execute_input": "2023-03-15T14:17:29.664027Z",
     "iopub.status.busy": "2023-03-15T14:17:29.664027Z",
     "iopub.status.idle": "2023-03-15T14:17:30.983007Z",
     "shell.execute_reply": "2023-03-15T14:17:30.982489Z"
    },
    "papermill": {
     "duration": 1.329076,
     "end_time": "2023-03-15T14:17:30.986109",
     "exception": false,
     "start_time": "2023-03-15T14:17:29.657033",
     "status": "completed"
    },
    "tags": []
   },
   "outputs": [],
   "source": [
    "import geopandas as gpd"
   ]
  },
  {
   "cell_type": "code",
   "execution_count": 4,
   "id": "2bd80039",
   "metadata": {
    "execution": {
     "iopub.execute_input": "2023-03-15T14:17:31.003015Z",
     "iopub.status.busy": "2023-03-15T14:17:31.002021Z",
     "iopub.status.idle": "2023-03-15T14:19:40.982914Z",
     "shell.execute_reply": "2023-03-15T14:19:40.976943Z"
    },
    "papermill": {
     "duration": 130.025394,
     "end_time": "2023-03-15T14:19:41.019467",
     "exception": false,
     "start_time": "2023-03-15T14:17:30.994073",
     "status": "completed"
    },
    "tags": []
   },
   "outputs": [
    {
     "name": "stdout",
     "output_type": "stream",
     "text": [
      "Wall time: 2min 9s\n"
     ]
    }
   ],
   "source": [
    "%%time\n",
    "plot_locations = gpd.read_file(FILE2)"
   ]
  },
  {
   "cell_type": "code",
   "execution_count": 5,
   "id": "13e2caab",
   "metadata": {
    "execution": {
     "iopub.execute_input": "2023-03-15T14:19:41.074701Z",
     "iopub.status.busy": "2023-03-15T14:19:41.071598Z",
     "iopub.status.idle": "2023-03-15T14:19:41.148220Z",
     "shell.execute_reply": "2023-03-15T14:19:41.146232Z"
    },
    "papermill": {
     "duration": 0.111997,
     "end_time": "2023-03-15T14:19:41.152457",
     "exception": false,
     "start_time": "2023-03-15T14:19:41.040460",
     "status": "completed"
    },
    "tags": []
   },
   "outputs": [
    {
     "data": {
      "text/plain": [
       "122.763"
      ]
     },
     "execution_count": 5,
     "metadata": {},
     "output_type": "execute_result"
    }
   ],
   "source": [
    "len(plot_locations) /1e3"
   ]
  },
  {
   "cell_type": "code",
   "execution_count": 6,
   "id": "0935ab4b",
   "metadata": {
    "execution": {
     "iopub.execute_input": "2023-03-15T14:19:41.178466Z",
     "iopub.status.busy": "2023-03-15T14:19:41.177459Z",
     "iopub.status.idle": "2023-03-15T14:19:41.321598Z",
     "shell.execute_reply": "2023-03-15T14:19:41.318488Z"
    },
    "papermill": {
     "duration": 0.161608,
     "end_time": "2023-03-15T14:19:41.327066",
     "exception": false,
     "start_time": "2023-03-15T14:19:41.165458",
     "status": "completed"
    },
    "tags": []
   },
   "outputs": [],
   "source": [
    "mw = plot_locations[plot_locations.fclass == 'motorway']"
   ]
  },
  {
   "cell_type": "code",
   "execution_count": 7,
   "id": "5f516214",
   "metadata": {
    "execution": {
     "iopub.execute_input": "2023-03-15T14:19:41.352057Z",
     "iopub.status.busy": "2023-03-15T14:19:41.351055Z",
     "iopub.status.idle": "2023-03-15T14:19:41.382200Z",
     "shell.execute_reply": "2023-03-15T14:19:41.381214Z"
    },
    "papermill": {
     "duration": 0.045325,
     "end_time": "2023-03-15T14:19:41.386395",
     "exception": false,
     "start_time": "2023-03-15T14:19:41.341070",
     "status": "completed"
    },
    "tags": []
   },
   "outputs": [
    {
     "data": {
      "text/plain": [
       "Kona Expressway    13\n",
       "Vidyasagar Setu     9\n",
       "Name: name_2, dtype: int64"
      ]
     },
     "execution_count": 7,
     "metadata": {},
     "output_type": "execute_result"
    }
   ],
   "source": [
    "mw.name_2.value_counts()"
   ]
  },
  {
   "cell_type": "code",
   "execution_count": 8,
   "id": "58ee26a9",
   "metadata": {
    "execution": {
     "iopub.execute_input": "2023-03-15T14:19:41.404957Z",
     "iopub.status.busy": "2023-03-15T14:19:41.404957Z",
     "iopub.status.idle": "2023-03-15T14:19:41.412947Z",
     "shell.execute_reply": "2023-03-15T14:19:41.411955Z"
    },
    "papermill": {
     "duration": 0.020529,
     "end_time": "2023-03-15T14:19:41.415949",
     "exception": false,
     "start_time": "2023-03-15T14:19:41.395420",
     "status": "completed"
    },
    "tags": []
   },
   "outputs": [],
   "source": [
    "cnt_motorway = len(mw.name_2.unique())"
   ]
  },
  {
   "cell_type": "code",
   "execution_count": 9,
   "id": "7bc47da3",
   "metadata": {
    "execution": {
     "iopub.execute_input": "2023-03-15T14:19:41.434948Z",
     "iopub.status.busy": "2023-03-15T14:19:41.433949Z",
     "iopub.status.idle": "2023-03-15T14:19:41.448952Z",
     "shell.execute_reply": "2023-03-15T14:19:41.443954Z"
    },
    "papermill": {
     "duration": 0.029999,
     "end_time": "2023-03-15T14:19:41.453948",
     "exception": false,
     "start_time": "2023-03-15T14:19:41.423949",
     "status": "completed"
    },
    "tags": []
   },
   "outputs": [
    {
     "data": {
      "text/plain": [
       "3"
      ]
     },
     "execution_count": 9,
     "metadata": {},
     "output_type": "execute_result"
    }
   ],
   "source": [
    "cnt_motorway"
   ]
  },
  {
   "cell_type": "code",
   "execution_count": 10,
   "id": "e438c1c7",
   "metadata": {
    "execution": {
     "iopub.execute_input": "2023-03-15T14:19:41.479109Z",
     "iopub.status.busy": "2023-03-15T14:19:41.479109Z",
     "iopub.status.idle": "2023-03-15T14:19:41.492119Z",
     "shell.execute_reply": "2023-03-15T14:19:41.491120Z"
    },
    "papermill": {
     "duration": 0.031543,
     "end_time": "2023-03-15T14:19:41.497494",
     "exception": false,
     "start_time": "2023-03-15T14:19:41.465951",
     "status": "completed"
    },
    "tags": []
   },
   "outputs": [],
   "source": [
    "c=mw.name_2.unique()"
   ]
  },
  {
   "cell_type": "code",
   "execution_count": 11,
   "id": "7cd7361f",
   "metadata": {
    "execution": {
     "iopub.execute_input": "2023-03-15T14:19:41.523581Z",
     "iopub.status.busy": "2023-03-15T14:19:41.522583Z",
     "iopub.status.idle": "2023-03-15T14:19:41.538054Z",
     "shell.execute_reply": "2023-03-15T14:19:41.537049Z"
    },
    "papermill": {
     "duration": 0.034027,
     "end_time": "2023-03-15T14:19:41.542047",
     "exception": false,
     "start_time": "2023-03-15T14:19:41.508020",
     "status": "completed"
    },
    "tags": []
   },
   "outputs": [
    {
     "data": {
      "text/plain": [
       "array([None, 'Vidyasagar Setu', 'Kona Expressway'], dtype=object)"
      ]
     },
     "execution_count": 11,
     "metadata": {},
     "output_type": "execute_result"
    }
   ],
   "source": [
    "c"
   ]
  },
  {
   "cell_type": "code",
   "execution_count": 12,
   "id": "5a629efe",
   "metadata": {
    "execution": {
     "iopub.execute_input": "2023-03-15T14:19:41.567107Z",
     "iopub.status.busy": "2023-03-15T14:19:41.567107Z",
     "iopub.status.idle": "2023-03-15T14:19:41.601106Z",
     "shell.execute_reply": "2023-03-15T14:19:41.598105Z"
    },
    "papermill": {
     "duration": 0.053587,
     "end_time": "2023-03-15T14:19:41.604631",
     "exception": false,
     "start_time": "2023-03-15T14:19:41.551044",
     "status": "completed"
    },
    "tags": []
   },
   "outputs": [],
   "source": [
    "mw.iloc[0]['name_2']"
   ]
  },
  {
   "cell_type": "code",
   "execution_count": 13,
   "id": "b274d75e",
   "metadata": {
    "execution": {
     "iopub.execute_input": "2023-03-15T14:19:41.632641Z",
     "iopub.status.busy": "2023-03-15T14:19:41.631635Z",
     "iopub.status.idle": "2023-03-15T14:19:41.660924Z",
     "shell.execute_reply": "2023-03-15T14:19:41.659950Z"
    },
    "papermill": {
     "duration": 0.0443,
     "end_time": "2023-03-15T14:19:41.664929",
     "exception": false,
     "start_time": "2023-03-15T14:19:41.620629",
     "status": "completed"
    },
    "tags": []
   },
   "outputs": [
    {
     "data": {
      "text/plain": [
       "array([], dtype=object)"
      ]
     },
     "execution_count": 13,
     "metadata": {},
     "output_type": "execute_result"
    }
   ],
   "source": [
    "mw[mw.name_2 == c[0]].NAME.unique()"
   ]
  },
  {
   "cell_type": "code",
   "execution_count": 14,
   "id": "ff1f47e9",
   "metadata": {
    "execution": {
     "iopub.execute_input": "2023-03-15T14:19:41.687275Z",
     "iopub.status.busy": "2023-03-15T14:19:41.686286Z",
     "iopub.status.idle": "2023-03-15T14:19:41.709600Z",
     "shell.execute_reply": "2023-03-15T14:19:41.706605Z"
    },
    "papermill": {
     "duration": 0.038693,
     "end_time": "2023-03-15T14:19:41.713619",
     "exception": false,
     "start_time": "2023-03-15T14:19:41.674926",
     "status": "completed"
    },
    "tags": []
   },
   "outputs": [
    {
     "name": "stdout",
     "output_type": "stream",
     "text": [
      "['Haora' 'Kolkata']\n"
     ]
    }
   ],
   "source": [
    "if cnt_motorway >= 2:\n",
    "    print(mw[mw.name_2 == c[1]].NAME.unique())"
   ]
  },
  {
   "cell_type": "code",
   "execution_count": 15,
   "id": "f6b80c12",
   "metadata": {
    "execution": {
     "iopub.execute_input": "2023-03-15T14:19:41.735815Z",
     "iopub.status.busy": "2023-03-15T14:19:41.735815Z",
     "iopub.status.idle": "2023-03-15T14:19:41.754052Z",
     "shell.execute_reply": "2023-03-15T14:19:41.753046Z"
    },
    "papermill": {
     "duration": 0.033445,
     "end_time": "2023-03-15T14:19:41.758058",
     "exception": false,
     "start_time": "2023-03-15T14:19:41.724613",
     "status": "completed"
    },
    "tags": []
   },
   "outputs": [
    {
     "name": "stdout",
     "output_type": "stream",
     "text": [
      "['Haora' 'Nibra']\n"
     ]
    }
   ],
   "source": [
    "if cnt_motorway >= 3:\n",
    "    print(mw[mw.name_2 == c[2]].NAME.unique())"
   ]
  },
  {
   "cell_type": "code",
   "execution_count": 16,
   "id": "3a54a192",
   "metadata": {
    "execution": {
     "iopub.execute_input": "2023-03-15T14:19:41.777191Z",
     "iopub.status.busy": "2023-03-15T14:19:41.777191Z",
     "iopub.status.idle": "2023-03-15T14:19:41.785220Z",
     "shell.execute_reply": "2023-03-15T14:19:41.784189Z"
    },
    "papermill": {
     "duration": 0.021171,
     "end_time": "2023-03-15T14:19:41.788219",
     "exception": false,
     "start_time": "2023-03-15T14:19:41.767048",
     "status": "completed"
    },
    "tags": []
   },
   "outputs": [],
   "source": [
    "if cnt_motorway >= 4:\n",
    "    print(mw[mw.name_2 == c[3]].NAME.unique())"
   ]
  },
  {
   "cell_type": "code",
   "execution_count": null,
   "id": "082d1cca",
   "metadata": {
    "papermill": {
     "duration": 0.00856,
     "end_time": "2023-03-15T14:19:41.804756",
     "exception": false,
     "start_time": "2023-03-15T14:19:41.796196",
     "status": "completed"
    },
    "tags": []
   },
   "outputs": [],
   "source": []
  }
 ],
 "metadata": {
  "celltoolbar": "Tags",
  "kernelspec": {
   "display_name": "Python 3 (ipykernel)",
   "language": "python",
   "name": "python3"
  },
  "language_info": {
   "codemirror_mode": {
    "name": "ipython",
    "version": 3
   },
   "file_extension": ".py",
   "mimetype": "text/x-python",
   "name": "python",
   "nbconvert_exporter": "python",
   "pygments_lexer": "ipython3",
   "version": "3.9.13"
  },
  "papermill": {
   "default_parameters": {},
   "duration": 137.094456,
   "end_time": "2023-03-15T14:19:44.266140",
   "environment_variables": {},
   "exception": null,
   "input_path": "roads_analysis_parameters.ipynb",
   "output_path": "roads_wb_analysis.ipynb",
   "parameters": {
    "FILE2": "roads_wb.shp"
   },
   "start_time": "2023-03-15T14:17:27.171684",
   "version": "2.4.0"
  }
 },
 "nbformat": 4,
 "nbformat_minor": 5
}