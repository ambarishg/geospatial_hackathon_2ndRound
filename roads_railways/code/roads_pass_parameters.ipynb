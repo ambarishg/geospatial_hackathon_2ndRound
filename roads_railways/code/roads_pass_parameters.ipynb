{
 "cells": [
  {
   "cell_type": "code",
   "execution_count": 1,
   "id": "18942a72",
   "metadata": {
    "execution": {
     "iopub.execute_input": "2023-03-15T11:59:12.135921Z",
     "iopub.status.busy": "2023-03-15T11:59:12.134925Z",
     "iopub.status.idle": "2023-03-15T11:59:12.155906Z",
     "shell.execute_reply": "2023-03-15T11:59:12.155906Z"
    },
    "papermill": {
     "duration": 0.034526,
     "end_time": "2023-03-15T11:59:12.159469",
     "exception": false,
     "start_time": "2023-03-15T11:59:12.124943",
     "status": "completed"
    },
    "tags": [
     "parameters"
    ]
   },
   "outputs": [],
   "source": [
    "SHAPE_FILE_ROADS = '../input/roads_railways/gis_osm_roads_free_1.shp'\n",
    "FILE2 = '../input/village_census/india-village-census-2001-AS.shp'\n",
    "FILE_OUTPUT = 'roads_assam_01.shp'"
   ]
  },
  {
   "cell_type": "code",
   "execution_count": 2,
   "id": "3929d86d",
   "metadata": {
    "execution": {
     "iopub.execute_input": "2023-03-15T11:59:12.175963Z",
     "iopub.status.busy": "2023-03-15T11:59:12.174454Z",
     "iopub.status.idle": "2023-03-15T11:59:12.187912Z",
     "shell.execute_reply": "2023-03-15T11:59:12.187243Z"
    },
    "papermill": {
     "duration": 0.023455,
     "end_time": "2023-03-15T11:59:12.190920",
     "exception": false,
     "start_time": "2023-03-15T11:59:12.167465",
     "status": "completed"
    },
    "tags": [
     "injected-parameters"
    ]
   },
   "outputs": [],
   "source": [
    "# Parameters\n",
    "SHAPE_FILE_ROADS = \"../input/roads_railways/gis_osm_roads_free_1.shp\"\n",
    "FILE2 = \"../input/village_census/india-village-census-2001-AS.shp\"\n",
    "FILE_OUTPUT = \"roads_assam_02.shp\"\n"
   ]
  },
  {
   "cell_type": "code",
   "execution_count": 3,
   "id": "01f4add3",
   "metadata": {
    "execution": {
     "iopub.execute_input": "2023-03-15T11:59:12.203332Z",
     "iopub.status.busy": "2023-03-15T11:59:12.203332Z",
     "iopub.status.idle": "2023-03-15T11:59:13.743351Z",
     "shell.execute_reply": "2023-03-15T11:59:13.742510Z"
    },
    "papermill": {
     "duration": 1.549704,
     "end_time": "2023-03-15T11:59:13.745999",
     "exception": false,
     "start_time": "2023-03-15T11:59:12.196295",
     "status": "completed"
    },
    "tags": []
   },
   "outputs": [],
   "source": [
    "import geopandas as gpd"
   ]
  },
  {
   "cell_type": "code",
   "execution_count": 4,
   "id": "61692b07",
   "metadata": {
    "execution": {
     "iopub.execute_input": "2023-03-15T11:59:13.761703Z",
     "iopub.status.busy": "2023-03-15T11:59:13.760696Z",
     "iopub.status.idle": "2023-03-15T12:03:24.287669Z",
     "shell.execute_reply": "2023-03-15T12:03:24.284686Z"
    },
    "papermill": {
     "duration": 250.712562,
     "end_time": "2023-03-15T12:03:24.466559",
     "exception": false,
     "start_time": "2023-03-15T11:59:13.753997",
     "status": "completed"
    },
    "tags": []
   },
   "outputs": [
    {
     "name": "stdout",
     "output_type": "stream",
     "text": [
      "Wall time: 4min 10s\n"
     ]
    }
   ],
   "source": [
    "%%time\n",
    "plot_locations = gpd.read_file(SHAPE_FILE_ROADS)"
   ]
  },
  {
   "cell_type": "code",
   "execution_count": 5,
   "id": "92f65403",
   "metadata": {
    "execution": {
     "iopub.execute_input": "2023-03-15T12:03:24.515658Z",
     "iopub.status.busy": "2023-03-15T12:03:24.514063Z",
     "iopub.status.idle": "2023-03-15T12:03:24.565512Z",
     "shell.execute_reply": "2023-03-15T12:03:24.564505Z"
    },
    "papermill": {
     "duration": 0.069312,
     "end_time": "2023-03-15T12:03:24.569518",
     "exception": false,
     "start_time": "2023-03-15T12:03:24.500206",
     "status": "completed"
    },
    "tags": []
   },
   "outputs": [
    {
     "data": {
      "text/plain": [
       "2.111685"
      ]
     },
     "execution_count": 5,
     "metadata": {},
     "output_type": "execute_result"
    }
   ],
   "source": [
    "len(plot_locations) /1e6"
   ]
  },
  {
   "cell_type": "code",
   "execution_count": 6,
   "id": "8bf643f8",
   "metadata": {
    "execution": {
     "iopub.execute_input": "2023-03-15T12:03:24.591535Z",
     "iopub.status.busy": "2023-03-15T12:03:24.590527Z",
     "iopub.status.idle": "2023-03-15T12:03:24.691767Z",
     "shell.execute_reply": "2023-03-15T12:03:24.690753Z"
    },
    "papermill": {
     "duration": 0.115421,
     "end_time": "2023-03-15T12:03:24.696753",
     "exception": false,
     "start_time": "2023-03-15T12:03:24.581332",
     "status": "completed"
    },
    "tags": []
   },
   "outputs": [
    {
     "data": {
      "text/html": [
       "<div>\n",
       "<style scoped>\n",
       "    .dataframe tbody tr th:only-of-type {\n",
       "        vertical-align: middle;\n",
       "    }\n",
       "\n",
       "    .dataframe tbody tr th {\n",
       "        vertical-align: top;\n",
       "    }\n",
       "\n",
       "    .dataframe thead th {\n",
       "        text-align: right;\n",
       "    }\n",
       "</style>\n",
       "<table border=\"1\" class=\"dataframe\">\n",
       "  <thead>\n",
       "    <tr style=\"text-align: right;\">\n",
       "      <th></th>\n",
       "      <th>osm_id</th>\n",
       "      <th>code</th>\n",
       "      <th>fclass</th>\n",
       "      <th>name</th>\n",
       "      <th>ref</th>\n",
       "      <th>oneway</th>\n",
       "      <th>maxspeed</th>\n",
       "      <th>layer</th>\n",
       "      <th>bridge</th>\n",
       "      <th>tunnel</th>\n",
       "      <th>geometry</th>\n",
       "    </tr>\n",
       "  </thead>\n",
       "  <tbody>\n",
       "    <tr>\n",
       "      <th>0</th>\n",
       "      <td>3187224</td>\n",
       "      <td>5115</td>\n",
       "      <td>tertiary</td>\n",
       "      <td>Sha Road</td>\n",
       "      <td>None</td>\n",
       "      <td>B</td>\n",
       "      <td>0</td>\n",
       "      <td>0</td>\n",
       "      <td>F</td>\n",
       "      <td>F</td>\n",
       "      <td>LINESTRING (76.32194 10.30471, 76.32174 10.304...</td>\n",
       "    </tr>\n",
       "    <tr>\n",
       "      <th>1</th>\n",
       "      <td>3191425</td>\n",
       "      <td>5115</td>\n",
       "      <td>tertiary</td>\n",
       "      <td>U2</td>\n",
       "      <td>None</td>\n",
       "      <td>B</td>\n",
       "      <td>0</td>\n",
       "      <td>0</td>\n",
       "      <td>F</td>\n",
       "      <td>F</td>\n",
       "      <td>LINESTRING (76.33476 10.30725, 76.33477 10.306...</td>\n",
       "    </tr>\n",
       "    <tr>\n",
       "      <th>2</th>\n",
       "      <td>3191428</td>\n",
       "      <td>5115</td>\n",
       "      <td>tertiary</td>\n",
       "      <td>Transport Bustand Road</td>\n",
       "      <td>None</td>\n",
       "      <td>B</td>\n",
       "      <td>0</td>\n",
       "      <td>0</td>\n",
       "      <td>F</td>\n",
       "      <td>F</td>\n",
       "      <td>LINESTRING (76.33261 10.29997, 76.33282 10.300...</td>\n",
       "    </tr>\n",
       "    <tr>\n",
       "      <th>3</th>\n",
       "      <td>3191437</td>\n",
       "      <td>5115</td>\n",
       "      <td>tertiary</td>\n",
       "      <td>Housing Board</td>\n",
       "      <td>None</td>\n",
       "      <td>B</td>\n",
       "      <td>0</td>\n",
       "      <td>0</td>\n",
       "      <td>F</td>\n",
       "      <td>F</td>\n",
       "      <td>LINESTRING (76.33261 10.29997, 76.33327 10.299...</td>\n",
       "    </tr>\n",
       "    <tr>\n",
       "      <th>4</th>\n",
       "      <td>3194810</td>\n",
       "      <td>5115</td>\n",
       "      <td>tertiary</td>\n",
       "      <td>Market Road</td>\n",
       "      <td>None</td>\n",
       "      <td>B</td>\n",
       "      <td>0</td>\n",
       "      <td>0</td>\n",
       "      <td>F</td>\n",
       "      <td>F</td>\n",
       "      <td>LINESTRING (76.33898 10.30246, 76.33906 10.305...</td>\n",
       "    </tr>\n",
       "  </tbody>\n",
       "</table>\n",
       "</div>"
      ],
      "text/plain": [
       "    osm_id  code    fclass                    name   ref oneway  maxspeed  \\\n",
       "0  3187224  5115  tertiary                Sha Road  None      B         0   \n",
       "1  3191425  5115  tertiary                      U2  None      B         0   \n",
       "2  3191428  5115  tertiary  Transport Bustand Road  None      B         0   \n",
       "3  3191437  5115  tertiary           Housing Board  None      B         0   \n",
       "4  3194810  5115  tertiary             Market Road  None      B         0   \n",
       "\n",
       "   layer bridge tunnel                                           geometry  \n",
       "0      0      F      F  LINESTRING (76.32194 10.30471, 76.32174 10.304...  \n",
       "1      0      F      F  LINESTRING (76.33476 10.30725, 76.33477 10.306...  \n",
       "2      0      F      F  LINESTRING (76.33261 10.29997, 76.33282 10.300...  \n",
       "3      0      F      F  LINESTRING (76.33261 10.29997, 76.33327 10.299...  \n",
       "4      0      F      F  LINESTRING (76.33898 10.30246, 76.33906 10.305...  "
      ]
     },
     "execution_count": 6,
     "metadata": {},
     "output_type": "execute_result"
    }
   ],
   "source": [
    "plot_locations.head()"
   ]
  },
  {
   "cell_type": "code",
   "execution_count": 7,
   "id": "8991d882",
   "metadata": {
    "execution": {
     "iopub.execute_input": "2023-03-15T12:03:24.716512Z",
     "iopub.status.busy": "2023-03-15T12:03:24.716512Z",
     "iopub.status.idle": "2023-03-15T12:03:40.875728Z",
     "shell.execute_reply": "2023-03-15T12:03:40.873734Z"
    },
    "papermill": {
     "duration": 16.173956,
     "end_time": "2023-03-15T12:03:40.879728",
     "exception": false,
     "start_time": "2023-03-15T12:03:24.705772",
     "status": "completed"
    },
    "tags": []
   },
   "outputs": [],
   "source": [
    "state = gpd.read_file(FILE2)"
   ]
  },
  {
   "cell_type": "code",
   "execution_count": 8,
   "id": "34b0bfc1",
   "metadata": {
    "execution": {
     "iopub.execute_input": "2023-03-15T12:03:40.900769Z",
     "iopub.status.busy": "2023-03-15T12:03:40.900769Z",
     "iopub.status.idle": "2023-03-15T12:03:40.921601Z",
     "shell.execute_reply": "2023-03-15T12:03:40.920592Z"
    },
    "papermill": {
     "duration": 0.036132,
     "end_time": "2023-03-15T12:03:40.925874",
     "exception": false,
     "start_time": "2023-03-15T12:03:40.889742",
     "status": "completed"
    },
    "tags": []
   },
   "outputs": [
    {
     "data": {
      "text/plain": [
       "22521"
      ]
     },
     "execution_count": 8,
     "metadata": {},
     "output_type": "execute_result"
    }
   ],
   "source": [
    "len(state)"
   ]
  },
  {
   "cell_type": "code",
   "execution_count": 9,
   "id": "cfe181d3",
   "metadata": {
    "execution": {
     "iopub.execute_input": "2023-03-15T12:03:40.948399Z",
     "iopub.status.busy": "2023-03-15T12:03:40.947398Z",
     "iopub.status.idle": "2023-03-15T12:03:41.048968Z",
     "shell.execute_reply": "2023-03-15T12:03:41.047960Z"
    },
    "papermill": {
     "duration": 0.1216,
     "end_time": "2023-03-15T12:03:41.057985",
     "exception": false,
     "start_time": "2023-03-15T12:03:40.936385",
     "status": "completed"
    },
    "tags": []
   },
   "outputs": [
    {
     "data": {
      "text/html": [
       "<div>\n",
       "<style scoped>\n",
       "    .dataframe tbody tr th:only-of-type {\n",
       "        vertical-align: middle;\n",
       "    }\n",
       "\n",
       "    .dataframe tbody tr th {\n",
       "        vertical-align: top;\n",
       "    }\n",
       "\n",
       "    .dataframe thead th {\n",
       "        text-align: right;\n",
       "    }\n",
       "</style>\n",
       "<table border=\"1\" class=\"dataframe\">\n",
       "  <thead>\n",
       "    <tr style=\"text-align: right;\">\n",
       "      <th></th>\n",
       "      <th>SID</th>\n",
       "      <th>DID</th>\n",
       "      <th>TID</th>\n",
       "      <th>VILL_CODE</th>\n",
       "      <th>C_CODE01</th>\n",
       "      <th>NAME</th>\n",
       "      <th>UID</th>\n",
       "      <th>CENSUS_COD</th>\n",
       "      <th>STATE</th>\n",
       "      <th>DISTRICT</th>\n",
       "      <th>...</th>\n",
       "      <th>TANK_IRR</th>\n",
       "      <th>RIVER_IRR</th>\n",
       "      <th>LAKE_IRR</th>\n",
       "      <th>W_FALL</th>\n",
       "      <th>OTH_IRR</th>\n",
       "      <th>TOT_IRR</th>\n",
       "      <th>UN_IRR</th>\n",
       "      <th>CULT_WASTE</th>\n",
       "      <th>AREA_NA_CU</th>\n",
       "      <th>geometry</th>\n",
       "    </tr>\n",
       "  </thead>\n",
       "  <tbody>\n",
       "    <tr>\n",
       "      <th>0</th>\n",
       "      <td>18</td>\n",
       "      <td>14</td>\n",
       "      <td>0001</td>\n",
       "      <td>01522200</td>\n",
       "      <td>1814000101522200</td>\n",
       "      <td>Kapawpathar Deori</td>\n",
       "      <td>261578</td>\n",
       "      <td>1.814000e+15</td>\n",
       "      <td>18</td>\n",
       "      <td>14</td>\n",
       "      <td>...</td>\n",
       "      <td>0</td>\n",
       "      <td>0.0</td>\n",
       "      <td>0</td>\n",
       "      <td>0</td>\n",
       "      <td>0</td>\n",
       "      <td>0.0</td>\n",
       "      <td>193.02</td>\n",
       "      <td>99.00</td>\n",
       "      <td>94.00</td>\n",
       "      <td>POLYGON ((1964160.999 3183920.364, 1964246.469...</td>\n",
       "    </tr>\n",
       "    <tr>\n",
       "      <th>1</th>\n",
       "      <td>18</td>\n",
       "      <td>14</td>\n",
       "      <td>0001</td>\n",
       "      <td>01522000</td>\n",
       "      <td>1814000101522000</td>\n",
       "      <td>Lakhimijan</td>\n",
       "      <td>261579</td>\n",
       "      <td>1.814000e+15</td>\n",
       "      <td>18</td>\n",
       "      <td>14</td>\n",
       "      <td>...</td>\n",
       "      <td>0</td>\n",
       "      <td>0.0</td>\n",
       "      <td>0</td>\n",
       "      <td>0</td>\n",
       "      <td>0</td>\n",
       "      <td>0.0</td>\n",
       "      <td>296.51</td>\n",
       "      <td>10.04</td>\n",
       "      <td>18.85</td>\n",
       "      <td>POLYGON ((1961813.379 3183424.622, 1962657.119...</td>\n",
       "    </tr>\n",
       "    <tr>\n",
       "      <th>2</th>\n",
       "      <td>18</td>\n",
       "      <td>14</td>\n",
       "      <td>0001</td>\n",
       "      <td>01525800</td>\n",
       "      <td>1814000101525800</td>\n",
       "      <td>Bodo Gaon</td>\n",
       "      <td>261580</td>\n",
       "      <td>1.814000e+15</td>\n",
       "      <td>18</td>\n",
       "      <td>14</td>\n",
       "      <td>...</td>\n",
       "      <td>0</td>\n",
       "      <td>0.0</td>\n",
       "      <td>0</td>\n",
       "      <td>0</td>\n",
       "      <td>0</td>\n",
       "      <td>0.0</td>\n",
       "      <td>19.00</td>\n",
       "      <td>5.00</td>\n",
       "      <td>6.00</td>\n",
       "      <td>POLYGON ((1971594.216 3184599.663, 1971688.685...</td>\n",
       "    </tr>\n",
       "    <tr>\n",
       "      <th>3</th>\n",
       "      <td>18</td>\n",
       "      <td>14</td>\n",
       "      <td>0001</td>\n",
       "      <td>01521900</td>\n",
       "      <td>1814000101521900</td>\n",
       "      <td>Padum Pukhuri</td>\n",
       "      <td>261581</td>\n",
       "      <td>1.814000e+15</td>\n",
       "      <td>18</td>\n",
       "      <td>14</td>\n",
       "      <td>...</td>\n",
       "      <td>0</td>\n",
       "      <td>0.0</td>\n",
       "      <td>0</td>\n",
       "      <td>0</td>\n",
       "      <td>0</td>\n",
       "      <td>0.0</td>\n",
       "      <td>227.29</td>\n",
       "      <td>12.04</td>\n",
       "      <td>73.12</td>\n",
       "      <td>POLYGON ((1956204.785 3182130.877, 1957240.796...</td>\n",
       "    </tr>\n",
       "    <tr>\n",
       "      <th>4</th>\n",
       "      <td>18</td>\n",
       "      <td>14</td>\n",
       "      <td>0001</td>\n",
       "      <td>01525700</td>\n",
       "      <td>1814000101525700</td>\n",
       "      <td>Makuri Bosti</td>\n",
       "      <td>261582</td>\n",
       "      <td>1.814000e+15</td>\n",
       "      <td>18</td>\n",
       "      <td>14</td>\n",
       "      <td>...</td>\n",
       "      <td>0</td>\n",
       "      <td>0.0</td>\n",
       "      <td>0</td>\n",
       "      <td>0</td>\n",
       "      <td>0</td>\n",
       "      <td>0.0</td>\n",
       "      <td>12.17</td>\n",
       "      <td>8.50</td>\n",
       "      <td>4.33</td>\n",
       "      <td>POLYGON ((1978033.791 3185175.334, 1978640.004...</td>\n",
       "    </tr>\n",
       "  </tbody>\n",
       "</table>\n",
       "<p>5 rows × 214 columns</p>\n",
       "</div>"
      ],
      "text/plain": [
       "  SID DID   TID VILL_CODE          C_CODE01               NAME     UID  \\\n",
       "0  18  14  0001  01522200  1814000101522200  Kapawpathar Deori  261578   \n",
       "1  18  14  0001  01522000  1814000101522000         Lakhimijan  261579   \n",
       "2  18  14  0001  01525800  1814000101525800          Bodo Gaon  261580   \n",
       "3  18  14  0001  01521900  1814000101521900      Padum Pukhuri  261581   \n",
       "4  18  14  0001  01525700  1814000101525700       Makuri Bosti  261582   \n",
       "\n",
       "     CENSUS_COD  STATE  DISTRICT  ...  TANK_IRR  RIVER_IRR  LAKE_IRR  W_FALL  \\\n",
       "0  1.814000e+15     18        14  ...         0        0.0         0       0   \n",
       "1  1.814000e+15     18        14  ...         0        0.0         0       0   \n",
       "2  1.814000e+15     18        14  ...         0        0.0         0       0   \n",
       "3  1.814000e+15     18        14  ...         0        0.0         0       0   \n",
       "4  1.814000e+15     18        14  ...         0        0.0         0       0   \n",
       "\n",
       "  OTH_IRR TOT_IRR  UN_IRR  CULT_WASTE  AREA_NA_CU  \\\n",
       "0       0     0.0  193.02       99.00       94.00   \n",
       "1       0     0.0  296.51       10.04       18.85   \n",
       "2       0     0.0   19.00        5.00        6.00   \n",
       "3       0     0.0  227.29       12.04       73.12   \n",
       "4       0     0.0   12.17        8.50        4.33   \n",
       "\n",
       "                                            geometry  \n",
       "0  POLYGON ((1964160.999 3183920.364, 1964246.469...  \n",
       "1  POLYGON ((1961813.379 3183424.622, 1962657.119...  \n",
       "2  POLYGON ((1971594.216 3184599.663, 1971688.685...  \n",
       "3  POLYGON ((1956204.785 3182130.877, 1957240.796...  \n",
       "4  POLYGON ((1978033.791 3185175.334, 1978640.004...  \n",
       "\n",
       "[5 rows x 214 columns]"
      ]
     },
     "execution_count": 9,
     "metadata": {},
     "output_type": "execute_result"
    }
   ],
   "source": [
    "state.head()"
   ]
  },
  {
   "cell_type": "code",
   "execution_count": 10,
   "id": "e3bf353c",
   "metadata": {
    "execution": {
     "iopub.execute_input": "2023-03-15T12:03:41.081961Z",
     "iopub.status.busy": "2023-03-15T12:03:41.080963Z",
     "iopub.status.idle": "2023-03-15T12:03:41.488509Z",
     "shell.execute_reply": "2023-03-15T12:03:41.487589Z"
    },
    "papermill": {
     "duration": 0.423538,
     "end_time": "2023-03-15T12:03:41.493512",
     "exception": false,
     "start_time": "2023-03-15T12:03:41.069974",
     "status": "completed"
    },
    "tags": []
   },
   "outputs": [],
   "source": [
    "motorway = plot_locations[plot_locations.fclass == 'motorway']"
   ]
  },
  {
   "cell_type": "code",
   "execution_count": 11,
   "id": "8da9617b",
   "metadata": {
    "execution": {
     "iopub.execute_input": "2023-03-15T12:03:41.520506Z",
     "iopub.status.busy": "2023-03-15T12:03:41.519574Z",
     "iopub.status.idle": "2023-03-15T12:03:41.536187Z",
     "shell.execute_reply": "2023-03-15T12:03:41.535199Z"
    },
    "papermill": {
     "duration": 0.034198,
     "end_time": "2023-03-15T12:03:41.541708",
     "exception": false,
     "start_time": "2023-03-15T12:03:41.507510",
     "status": "completed"
    },
    "tags": []
   },
   "outputs": [
    {
     "data": {
      "text/plain": [
       "2544"
      ]
     },
     "execution_count": 11,
     "metadata": {},
     "output_type": "execute_result"
    }
   ],
   "source": [
    "len(motorway)"
   ]
  },
  {
   "cell_type": "code",
   "execution_count": 12,
   "id": "cec577fb",
   "metadata": {
    "execution": {
     "iopub.execute_input": "2023-03-15T12:03:41.562713Z",
     "iopub.status.busy": "2023-03-15T12:03:41.561720Z",
     "iopub.status.idle": "2023-03-15T12:03:44.025674Z",
     "shell.execute_reply": "2023-03-15T12:03:44.024673Z"
    },
    "papermill": {
     "duration": 2.476971,
     "end_time": "2023-03-15T12:03:44.028680",
     "exception": false,
     "start_time": "2023-03-15T12:03:41.551709",
     "status": "completed"
    },
    "tags": []
   },
   "outputs": [],
   "source": [
    "x = plot_locations.to_crs(epsg='4326')\n",
    "y = state.to_crs(epsg='4326')"
   ]
  },
  {
   "cell_type": "code",
   "execution_count": 13,
   "id": "56f25efd",
   "metadata": {
    "execution": {
     "iopub.execute_input": "2023-03-15T12:03:44.047205Z",
     "iopub.status.busy": "2023-03-15T12:03:44.047205Z",
     "iopub.status.idle": "2023-03-15T12:04:11.625015Z",
     "shell.execute_reply": "2023-03-15T12:04:11.617953Z"
    },
    "papermill": {
     "duration": 27.597317,
     "end_time": "2023-03-15T12:04:11.634999",
     "exception": false,
     "start_time": "2023-03-15T12:03:44.037682",
     "status": "completed"
    },
    "tags": []
   },
   "outputs": [],
   "source": [
    "mx = y.overlay(x,how=\"intersection\",keep_geom_type=False)"
   ]
  },
  {
   "cell_type": "code",
   "execution_count": 14,
   "id": "0a4f7823",
   "metadata": {
    "execution": {
     "iopub.execute_input": "2023-03-15T12:04:11.670933Z",
     "iopub.status.busy": "2023-03-15T12:04:11.669926Z",
     "iopub.status.idle": "2023-03-15T12:16:21.385893Z",
     "shell.execute_reply": "2023-03-15T12:16:21.379750Z"
    },
    "papermill": {
     "duration": 729.750387,
     "end_time": "2023-03-15T12:16:21.400303",
     "exception": false,
     "start_time": "2023-03-15T12:04:11.649916",
     "status": "completed"
    },
    "tags": []
   },
   "outputs": [],
   "source": [
    "mx.to_file(FILE_OUTPUT)"
   ]
  },
  {
   "cell_type": "code",
   "execution_count": null,
   "id": "3ecf2b4a",
   "metadata": {
    "papermill": {
     "duration": 0.009009,
     "end_time": "2023-03-15T12:16:21.443383",
     "exception": false,
     "start_time": "2023-03-15T12:16:21.434374",
     "status": "completed"
    },
    "tags": []
   },
   "outputs": [],
   "source": []
  }
 ],
 "metadata": {
  "celltoolbar": "Tags",
  "kernelspec": {
   "display_name": "Python 3 (ipykernel)",
   "language": "python",
   "name": "python3"
  },
  "language_info": {
   "codemirror_mode": {
    "name": "ipython",
    "version": 3
   },
   "file_extension": ".py",
   "mimetype": "text/x-python",
   "name": "python",
   "nbconvert_exporter": "python",
   "pygments_lexer": "ipython3",
   "version": "3.9.13"
  },
  "papermill": {
   "default_parameters": {},
   "duration": 1034.28433,
   "end_time": "2023-03-15T12:16:24.501757",
   "environment_variables": {},
   "exception": null,
   "input_path": "roads_overlay_parameters.ipynb",
   "output_path": "roads_assam_parameters.ipynb",
   "parameters": {
    "FILE2": "../input/village_census/india-village-census-2001-AS.shp",
    "FILE_OUTPUT": "roads_assam_02.shp",
    "SHAPE_FILE_ROADS": "../input/roads_railways/gis_osm_roads_free_1.shp"
   },
   "start_time": "2023-03-15T11:59:10.217427",
   "version": "2.4.0"
  }
 },
 "nbformat": 4,
 "nbformat_minor": 5
}